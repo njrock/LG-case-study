{
 "cells": [
  {
   "cell_type": "markdown",
   "metadata": {
    "papermill": {
     "duration": 0.112669,
     "end_time": "2022-01-14T01:26:04.601737",
     "exception": false,
     "start_time": "2022-01-14T01:26:04.489068",
     "status": "completed"
    },
    "tags": []
   },
   "source": [
    "# Problem Statement"
   ]
  },
  {
   "cell_type": "markdown",
   "metadata": {
    "papermill": {
     "duration": 0.107356,
     "end_time": "2022-01-14T01:26:04.818257",
     "exception": false,
     "start_time": "2022-01-14T01:26:04.710901",
     "status": "completed"
    },
    "tags": []
   },
   "source": [
    "Industry professionals can purchase online courses from X Education, a company that provides education.\n",
    "\n",
    "At X Education, the lead conversion rate is typically between 30% and 40%. The CEO wants to see an improvement in the lead conversion rate to about 80%.\n",
    "\n",
    "\n",
    "Create a lead scoring model using a lead dataset with around 9000 data points from the past that includes various criteria like Lead Source, Total Website Time Spent, Total Visits, Last Activity, etc."
   ]
  },
  {
   "cell_type": "code",
   "execution_count": 1,
   "metadata": {
    "_cell_guid": "b1076dfc-b9ad-4769-8c92-a6c4dae69d19",
    "_uuid": "8f2839f25d086af736a60e9eeb907d3b93b6e0e5",
    "execution": {
     "iopub.execute_input": "2022-01-14T01:26:05.037566Z",
     "iopub.status.busy": "2022-01-14T01:26:05.036219Z",
     "iopub.status.idle": "2022-01-14T01:26:06.420499Z",
     "shell.execute_reply": "2022-01-14T01:26:06.419647Z",
     "shell.execute_reply.started": "2022-01-14T01:18:09.824970Z"
    },
    "papermill": {
     "duration": 1.495827,
     "end_time": "2022-01-14T01:26:06.420709",
     "exception": false,
     "start_time": "2022-01-14T01:26:04.924882",
     "status": "completed"
    },
    "tags": []
   },
   "outputs": [],
   "source": [
    "#Import libraries\n",
    "import numpy as np\n",
    "import pandas as pd\n",
    "\n",
    "import matplotlib.pyplot as plt\n",
    "import seaborn as sns\n",
    "\n",
    "from sklearn.model_selection import train_test_split, GridSearchCV\n",
    "from sklearn.preprocessing import MinMaxScaler\n",
    "from sklearn.linear_model import LogisticRegression\n",
    "from sklearn.ensemble import RandomForestClassifier\n",
    "from sklearn.metrics import plot_roc_curve, confusion_matrix, roc_auc_score\n",
    "from scikitplot.metrics import plot_lift_curve"
   ]
  },
  {
   "cell_type": "code",
   "execution_count": 2,
   "metadata": {
    "execution": {
     "iopub.execute_input": "2022-01-14T01:26:06.641684Z",
     "iopub.status.busy": "2022-01-14T01:26:06.640940Z",
     "iopub.status.idle": "2022-01-14T01:26:06.751807Z",
     "shell.execute_reply": "2022-01-14T01:26:06.753055Z",
     "shell.execute_reply.started": "2022-01-14T01:18:09.836922Z"
    },
    "papermill": {
     "duration": 0.224357,
     "end_time": "2022-01-14T01:26:06.753287",
     "exception": false,
     "start_time": "2022-01-14T01:26:06.528930",
     "status": "completed"
    },
    "tags": []
   },
   "outputs": [],
   "source": [
    "#Import dataset\n",
    "mql = pd.read_csv('../input/lead-scoring-assignment/Leads.csv')"
   ]
  },
  {
   "cell_type": "markdown",
   "metadata": {
    "papermill": {
     "duration": 0.106485,
     "end_time": "2022-01-14T01:26:06.967699",
     "exception": false,
     "start_time": "2022-01-14T01:26:06.861214",
     "status": "completed"
    },
    "tags": []
   },
   "source": [
    "# Data Preparation"
   ]
  },
  {
   "cell_type": "markdown",
   "metadata": {
    "papermill": {
     "duration": 0.105891,
     "end_time": "2022-01-14T01:26:07.182017",
     "exception": false,
     "start_time": "2022-01-14T01:26:07.076126",
     "status": "completed"
    },
    "tags": []
   },
   "source": [
    "The goal of this part is to impute missing or inaccurate values into the dataset and make sure that all of its characteristics are of the right data type."
   ]
  },
  {
   "cell_type": "code",
   "execution_count": 3,
   "metadata": {
    "execution": {
     "iopub.execute_input": "2022-01-14T01:26:07.398456Z",
     "iopub.status.busy": "2022-01-14T01:26:07.397723Z",
     "iopub.status.idle": "2022-01-14T01:26:07.440424Z",
     "shell.execute_reply": "2022-01-14T01:26:07.440947Z",
     "shell.execute_reply.started": "2022-01-14T01:18:09.941249Z"
    },
    "papermill": {
     "duration": 0.152489,
     "end_time": "2022-01-14T01:26:07.441152",
     "exception": false,
     "start_time": "2022-01-14T01:26:07.288663",
     "status": "completed"
    },
    "tags": []
   },
   "outputs": [
    {
     "data": {
      "text/html": [
       "<div>\n",
       "<style scoped>\n",
       "    .dataframe tbody tr th:only-of-type {\n",
       "        vertical-align: middle;\n",
       "    }\n",
       "\n",
       "    .dataframe tbody tr th {\n",
       "        vertical-align: top;\n",
       "    }\n",
       "\n",
       "    .dataframe thead th {\n",
       "        text-align: right;\n",
       "    }\n",
       "</style>\n",
       "<table border=\"1\" class=\"dataframe\">\n",
       "  <thead>\n",
       "    <tr style=\"text-align: right;\">\n",
       "      <th></th>\n",
       "      <th>Prospect ID</th>\n",
       "      <th>Lead Number</th>\n",
       "      <th>Lead Origin</th>\n",
       "      <th>Lead Source</th>\n",
       "      <th>Do Not Email</th>\n",
       "      <th>Do Not Call</th>\n",
       "      <th>Converted</th>\n",
       "      <th>TotalVisits</th>\n",
       "      <th>Total Time Spent on Website</th>\n",
       "      <th>Page Views Per Visit</th>\n",
       "      <th>...</th>\n",
       "      <th>Get updates on DM Content</th>\n",
       "      <th>Lead Profile</th>\n",
       "      <th>City</th>\n",
       "      <th>Asymmetrique Activity Index</th>\n",
       "      <th>Asymmetrique Profile Index</th>\n",
       "      <th>Asymmetrique Activity Score</th>\n",
       "      <th>Asymmetrique Profile Score</th>\n",
       "      <th>I agree to pay the amount through cheque</th>\n",
       "      <th>A free copy of Mastering The Interview</th>\n",
       "      <th>Last Notable Activity</th>\n",
       "    </tr>\n",
       "  </thead>\n",
       "  <tbody>\n",
       "    <tr>\n",
       "      <th>4615</th>\n",
       "      <td>0cd586a1-e1ea-4c91-b98c-fb575af57652</td>\n",
       "      <td>615502</td>\n",
       "      <td>Landing Page Submission</td>\n",
       "      <td>Direct Traffic</td>\n",
       "      <td>No</td>\n",
       "      <td>No</td>\n",
       "      <td>0</td>\n",
       "      <td>2.0</td>\n",
       "      <td>1160</td>\n",
       "      <td>2.0</td>\n",
       "      <td>...</td>\n",
       "      <td>No</td>\n",
       "      <td>Student of SomeSchool</td>\n",
       "      <td>Thane &amp; Outskirts</td>\n",
       "      <td>NaN</td>\n",
       "      <td>NaN</td>\n",
       "      <td>NaN</td>\n",
       "      <td>NaN</td>\n",
       "      <td>No</td>\n",
       "      <td>Yes</td>\n",
       "      <td>Email Opened</td>\n",
       "    </tr>\n",
       "    <tr>\n",
       "      <th>7114</th>\n",
       "      <td>ce3f465c-2f03-485e-a323-28c3841ef539</td>\n",
       "      <td>594933</td>\n",
       "      <td>Landing Page Submission</td>\n",
       "      <td>Google</td>\n",
       "      <td>No</td>\n",
       "      <td>No</td>\n",
       "      <td>0</td>\n",
       "      <td>3.0</td>\n",
       "      <td>93</td>\n",
       "      <td>3.0</td>\n",
       "      <td>...</td>\n",
       "      <td>No</td>\n",
       "      <td>Select</td>\n",
       "      <td>Mumbai</td>\n",
       "      <td>NaN</td>\n",
       "      <td>NaN</td>\n",
       "      <td>NaN</td>\n",
       "      <td>NaN</td>\n",
       "      <td>No</td>\n",
       "      <td>No</td>\n",
       "      <td>Modified</td>\n",
       "    </tr>\n",
       "    <tr>\n",
       "      <th>6942</th>\n",
       "      <td>ce10e051-fd55-4b65-9d02-009b8378cdf2</td>\n",
       "      <td>596417</td>\n",
       "      <td>API</td>\n",
       "      <td>Olark Chat</td>\n",
       "      <td>No</td>\n",
       "      <td>No</td>\n",
       "      <td>0</td>\n",
       "      <td>0.0</td>\n",
       "      <td>0</td>\n",
       "      <td>0.0</td>\n",
       "      <td>...</td>\n",
       "      <td>No</td>\n",
       "      <td>Select</td>\n",
       "      <td>Select</td>\n",
       "      <td>02.Medium</td>\n",
       "      <td>02.Medium</td>\n",
       "      <td>14.0</td>\n",
       "      <td>15.0</td>\n",
       "      <td>No</td>\n",
       "      <td>No</td>\n",
       "      <td>Modified</td>\n",
       "    </tr>\n",
       "    <tr>\n",
       "      <th>7689</th>\n",
       "      <td>f1c84d1a-bdca-43ad-b577-8371041d8ca5</td>\n",
       "      <td>590832</td>\n",
       "      <td>Landing Page Submission</td>\n",
       "      <td>Direct Traffic</td>\n",
       "      <td>No</td>\n",
       "      <td>No</td>\n",
       "      <td>1</td>\n",
       "      <td>2.0</td>\n",
       "      <td>181</td>\n",
       "      <td>2.0</td>\n",
       "      <td>...</td>\n",
       "      <td>No</td>\n",
       "      <td>Potential Lead</td>\n",
       "      <td>Thane &amp; Outskirts</td>\n",
       "      <td>02.Medium</td>\n",
       "      <td>01.High</td>\n",
       "      <td>13.0</td>\n",
       "      <td>19.0</td>\n",
       "      <td>No</td>\n",
       "      <td>Yes</td>\n",
       "      <td>SMS Sent</td>\n",
       "    </tr>\n",
       "    <tr>\n",
       "      <th>1413</th>\n",
       "      <td>e186ebc0-250f-4f4e-a766-f328497bca65</td>\n",
       "      <td>645271</td>\n",
       "      <td>Landing Page Submission</td>\n",
       "      <td>Google</td>\n",
       "      <td>No</td>\n",
       "      <td>No</td>\n",
       "      <td>0</td>\n",
       "      <td>4.0</td>\n",
       "      <td>1805</td>\n",
       "      <td>4.0</td>\n",
       "      <td>...</td>\n",
       "      <td>No</td>\n",
       "      <td>NaN</td>\n",
       "      <td>Mumbai</td>\n",
       "      <td>02.Medium</td>\n",
       "      <td>01.High</td>\n",
       "      <td>13.0</td>\n",
       "      <td>18.0</td>\n",
       "      <td>No</td>\n",
       "      <td>No</td>\n",
       "      <td>Email Opened</td>\n",
       "    </tr>\n",
       "  </tbody>\n",
       "</table>\n",
       "<p>5 rows × 37 columns</p>\n",
       "</div>"
      ],
      "text/plain": [
       "                               Prospect ID  Lead Number  \\\n",
       "4615  0cd586a1-e1ea-4c91-b98c-fb575af57652       615502   \n",
       "7114  ce3f465c-2f03-485e-a323-28c3841ef539       594933   \n",
       "6942  ce10e051-fd55-4b65-9d02-009b8378cdf2       596417   \n",
       "7689  f1c84d1a-bdca-43ad-b577-8371041d8ca5       590832   \n",
       "1413  e186ebc0-250f-4f4e-a766-f328497bca65       645271   \n",
       "\n",
       "                  Lead Origin     Lead Source Do Not Email Do Not Call  \\\n",
       "4615  Landing Page Submission  Direct Traffic           No          No   \n",
       "7114  Landing Page Submission          Google           No          No   \n",
       "6942                      API      Olark Chat           No          No   \n",
       "7689  Landing Page Submission  Direct Traffic           No          No   \n",
       "1413  Landing Page Submission          Google           No          No   \n",
       "\n",
       "      Converted  TotalVisits  Total Time Spent on Website  \\\n",
       "4615          0          2.0                         1160   \n",
       "7114          0          3.0                           93   \n",
       "6942          0          0.0                            0   \n",
       "7689          1          2.0                          181   \n",
       "1413          0          4.0                         1805   \n",
       "\n",
       "      Page Views Per Visit  ... Get updates on DM Content  \\\n",
       "4615                   2.0  ...                        No   \n",
       "7114                   3.0  ...                        No   \n",
       "6942                   0.0  ...                        No   \n",
       "7689                   2.0  ...                        No   \n",
       "1413                   4.0  ...                        No   \n",
       "\n",
       "               Lead Profile               City Asymmetrique Activity Index  \\\n",
       "4615  Student of SomeSchool  Thane & Outskirts                         NaN   \n",
       "7114                 Select             Mumbai                         NaN   \n",
       "6942                 Select             Select                   02.Medium   \n",
       "7689         Potential Lead  Thane & Outskirts                   02.Medium   \n",
       "1413                    NaN             Mumbai                   02.Medium   \n",
       "\n",
       "     Asymmetrique Profile Index Asymmetrique Activity Score  \\\n",
       "4615                        NaN                         NaN   \n",
       "7114                        NaN                         NaN   \n",
       "6942                  02.Medium                        14.0   \n",
       "7689                    01.High                        13.0   \n",
       "1413                    01.High                        13.0   \n",
       "\n",
       "     Asymmetrique Profile Score I agree to pay the amount through cheque  \\\n",
       "4615                        NaN                                       No   \n",
       "7114                        NaN                                       No   \n",
       "6942                       15.0                                       No   \n",
       "7689                       19.0                                       No   \n",
       "1413                       18.0                                       No   \n",
       "\n",
       "     A free copy of Mastering The Interview Last Notable Activity  \n",
       "4615                                    Yes          Email Opened  \n",
       "7114                                     No              Modified  \n",
       "6942                                     No              Modified  \n",
       "7689                                    Yes              SMS Sent  \n",
       "1413                                     No          Email Opened  \n",
       "\n",
       "[5 rows x 37 columns]"
      ]
     },
     "execution_count": 3,
     "metadata": {},
     "output_type": "execute_result"
    }
   ],
   "source": [
    "#Sample view of the dataset\n",
    "mql.sample(5)"
   ]
  },
  {
   "cell_type": "code",
   "execution_count": 4,
   "metadata": {
    "execution": {
     "iopub.execute_input": "2022-01-14T01:26:07.693501Z",
     "iopub.status.busy": "2022-01-14T01:26:07.660879Z",
     "iopub.status.idle": "2022-01-14T01:26:07.715184Z",
     "shell.execute_reply": "2022-01-14T01:26:07.714403Z",
     "shell.execute_reply.started": "2022-01-14T01:18:09.984575Z"
    },
    "papermill": {
     "duration": 0.16631,
     "end_time": "2022-01-14T01:26:07.715350",
     "exception": false,
     "start_time": "2022-01-14T01:26:07.549040",
     "status": "completed"
    },
    "tags": []
   },
   "outputs": [
    {
     "name": "stdout",
     "output_type": "stream",
     "text": [
      "<class 'pandas.core.frame.DataFrame'>\n",
      "RangeIndex: 9240 entries, 0 to 9239\n",
      "Data columns (total 37 columns):\n",
      " #   Column                                         Non-Null Count  Dtype  \n",
      "---  ------                                         --------------  -----  \n",
      " 0   Prospect ID                                    9240 non-null   object \n",
      " 1   Lead Number                                    9240 non-null   int64  \n",
      " 2   Lead Origin                                    9240 non-null   object \n",
      " 3   Lead Source                                    9204 non-null   object \n",
      " 4   Do Not Email                                   9240 non-null   object \n",
      " 5   Do Not Call                                    9240 non-null   object \n",
      " 6   Converted                                      9240 non-null   int64  \n",
      " 7   TotalVisits                                    9103 non-null   float64\n",
      " 8   Total Time Spent on Website                    9240 non-null   int64  \n",
      " 9   Page Views Per Visit                           9103 non-null   float64\n",
      " 10  Last Activity                                  9137 non-null   object \n",
      " 11  Country                                        6779 non-null   object \n",
      " 12  Specialization                                 7802 non-null   object \n",
      " 13  How did you hear about X Education             7033 non-null   object \n",
      " 14  What is your current occupation                6550 non-null   object \n",
      " 15  What matters most to you in choosing a course  6531 non-null   object \n",
      " 16  Search                                         9240 non-null   object \n",
      " 17  Magazine                                       9240 non-null   object \n",
      " 18  Newspaper Article                              9240 non-null   object \n",
      " 19  X Education Forums                             9240 non-null   object \n",
      " 20  Newspaper                                      9240 non-null   object \n",
      " 21  Digital Advertisement                          9240 non-null   object \n",
      " 22  Through Recommendations                        9240 non-null   object \n",
      " 23  Receive More Updates About Our Courses         9240 non-null   object \n",
      " 24  Tags                                           5887 non-null   object \n",
      " 25  Lead Quality                                   4473 non-null   object \n",
      " 26  Update me on Supply Chain Content              9240 non-null   object \n",
      " 27  Get updates on DM Content                      9240 non-null   object \n",
      " 28  Lead Profile                                   6531 non-null   object \n",
      " 29  City                                           7820 non-null   object \n",
      " 30  Asymmetrique Activity Index                    5022 non-null   object \n",
      " 31  Asymmetrique Profile Index                     5022 non-null   object \n",
      " 32  Asymmetrique Activity Score                    5022 non-null   float64\n",
      " 33  Asymmetrique Profile Score                     5022 non-null   float64\n",
      " 34  I agree to pay the amount through cheque       9240 non-null   object \n",
      " 35  A free copy of Mastering The Interview         9240 non-null   object \n",
      " 36  Last Notable Activity                          9240 non-null   object \n",
      "dtypes: float64(4), int64(3), object(30)\n",
      "memory usage: 2.6+ MB\n"
     ]
    }
   ],
   "source": [
    "#Examine current data types and count of non-null entries by feature\n",
    "mql.info()"
   ]
  },
  {
   "cell_type": "code",
   "execution_count": 5,
   "metadata": {
    "execution": {
     "iopub.execute_input": "2022-01-14T01:26:07.935146Z",
     "iopub.status.busy": "2022-01-14T01:26:07.934441Z",
     "iopub.status.idle": "2022-01-14T01:26:07.977956Z",
     "shell.execute_reply": "2022-01-14T01:26:07.977385Z",
     "shell.execute_reply.started": "2022-01-14T01:18:10.033777Z"
    },
    "papermill": {
     "duration": 0.154918,
     "end_time": "2022-01-14T01:26:07.978133",
     "exception": false,
     "start_time": "2022-01-14T01:26:07.823215",
     "status": "completed"
    },
    "tags": []
   },
   "outputs": [
    {
     "data": {
      "text/plain": [
       "17"
      ]
     },
     "execution_count": 5,
     "metadata": {},
     "output_type": "execute_result"
    }
   ],
   "source": [
    "#Count columns with fewer than 9240 observations in mql\n",
    "cols_w_nulls = [mql[c].isna().max() for c in mql.columns]\n",
    "sum(cols_w_nulls)"
   ]
  },
  {
   "cell_type": "markdown",
   "metadata": {
    "papermill": {
     "duration": 0.107161,
     "end_time": "2022-01-14T01:26:08.193532",
     "exception": false,
     "start_time": "2022-01-14T01:26:08.086371",
     "status": "completed"
    },
    "tags": []
   },
   "source": [
    "Of the 37 features in this dataset, 17 have nulls and several more have incorrect data types.\n",
    "\n",
    "As part of our data preparation, we review each feature one-by-one to identify correct data types and appropriate null handling."
   ]
  },
  {
   "cell_type": "code",
   "execution_count": 6,
   "metadata": {
    "execution": {
     "iopub.execute_input": "2022-01-14T01:26:08.413647Z",
     "iopub.status.busy": "2022-01-14T01:26:08.412973Z",
     "iopub.status.idle": "2022-01-14T01:26:08.421843Z",
     "shell.execute_reply": "2022-01-14T01:26:08.422413Z",
     "shell.execute_reply.started": "2022-01-14T01:18:10.083799Z"
    },
    "papermill": {
     "duration": 0.119888,
     "end_time": "2022-01-14T01:26:08.422614",
     "exception": false,
     "start_time": "2022-01-14T01:26:08.302726",
     "status": "completed"
    },
    "tags": []
   },
   "outputs": [],
   "source": [
    "#Drop Prospect ID, we can use Lead Number as the unique ID for each observation\n",
    "mql.drop(columns='Prospect ID', axis=1, inplace=True)"
   ]
  },
  {
   "cell_type": "markdown",
   "metadata": {
    "papermill": {
     "duration": 0.108462,
     "end_time": "2022-01-14T01:26:08.640788",
     "exception": false,
     "start_time": "2022-01-14T01:26:08.532326",
     "status": "completed"
    },
    "tags": []
   },
   "source": [
    "Handling Null: Lead Source\n",
    "\n",
    "* \"Lead Source\": the place where the lead came from. includes Google, Olark Chat, organic search, etc.\n",
    "\n",
    "To choose the best approach for null imputation, consider the distribution of the feature."
   ]
  },
  {
   "cell_type": "code",
   "execution_count": 7,
   "metadata": {
    "execution": {
     "iopub.execute_input": "2022-01-14T01:26:08.860421Z",
     "iopub.status.busy": "2022-01-14T01:26:08.859654Z",
     "iopub.status.idle": "2022-01-14T01:26:09.233477Z",
     "shell.execute_reply": "2022-01-14T01:26:09.232682Z",
     "shell.execute_reply.started": "2022-01-14T01:18:10.101398Z"
    },
    "papermill": {
     "duration": 0.484777,
     "end_time": "2022-01-14T01:26:09.233683",
     "exception": false,
     "start_time": "2022-01-14T01:26:08.748906",
     "status": "completed"
    },
    "tags": []
   },
   "outputs": [
    {
     "data": {
      "text/plain": [
       "<function matplotlib.pyplot.show(close=None, block=None)>"
      ]
     },
     "execution_count": 7,
     "metadata": {},
     "output_type": "execute_result"
    },
    {
     "data": {
      "image/png": "[encoded data removed]",
      "text/plain": [
       "<Figure size 432x288 with 1 Axes>"
      ]
     },
     "metadata": {
      "needs_background": "light"
     },
     "output_type": "display_data"
    }
   ],
   "source": [
    "#Plot distribution of Lead Source\n",
    "sns.countplot(y='Lead Source', data=mql, order = mql['Lead Source'].value_counts().index)\n",
    "plt.title('Distribution of Lead Source')\n",
    "plt.show"
   ]
  },
  {
   "cell_type": "markdown",
   "metadata": {
    "papermill": {
     "duration": 0.109845,
     "end_time": "2022-01-14T01:26:09.454733",
     "exception": false,
     "start_time": "2022-01-14T01:26:09.344888",
     "status": "completed"
    },
    "tags": []
   },
   "source": [
    "There isn't a single Lead Source that is the most prevalent that might be used to infer null values. Therefore, the optimal null imputation technique would be to impute nulls with the new value \"Unknown\"."
   ]
  },
  {
   "cell_type": "code",
   "execution_count": 8,
   "metadata": {
    "execution": {
     "iopub.execute_input": "2022-01-14T01:26:09.683311Z",
     "iopub.status.busy": "2022-01-14T01:26:09.678747Z",
     "iopub.status.idle": "2022-01-14T01:26:09.685860Z",
     "shell.execute_reply": "2022-01-14T01:26:09.686613Z",
     "shell.execute_reply.started": "2022-01-14T01:18:10.493987Z"
    },
    "papermill": {
     "duration": 0.122868,
     "end_time": "2022-01-14T01:26:09.686809",
     "exception": false,
     "start_time": "2022-01-14T01:26:09.563941",
     "status": "completed"
    },
    "tags": []
   },
   "outputs": [],
   "source": [
    "#Impute nulls with \"Unknown\"\n",
    "mql['Lead Source'] = mql['Lead Source'].fillna('Unknown')"
   ]
  },
  {
   "cell_type": "markdown",
   "metadata": {
    "papermill": {
     "duration": 0.111079,
     "end_time": "2022-01-14T01:26:09.909665",
     "exception": false,
     "start_time": "2022-01-14T01:26:09.798586",
     "status": "completed"
    },
    "tags": []
   },
   "source": [
    "#### Data Type Correction: Do Not Email, Do Not Call, Converted\n",
    "\n",
    "* **Do Not Email**: An indicator variable selected by the customer wherein they select whether of not they want to be emailed about the course or not.\n",
    "* **Do Not Call**: An indicator variable selected by the customer wherein they select whether of not they want to be called about the course or not.\n",
    "* **Converted**: The target variable. Indicates whether a lead has been successfully converted or not.\n",
    "\n",
    "\n",
    "By converting these qualities into boolean values, they will be simpler to use in models, modify, and comprehend."
   ]
  },
  {
   "cell_type": "code",
   "execution_count": 9,
   "metadata": {
    "execution": {
     "iopub.execute_input": "2022-01-14T01:26:10.138483Z",
     "iopub.status.busy": "2022-01-14T01:26:10.134785Z",
     "iopub.status.idle": "2022-01-14T01:26:10.160846Z",
     "shell.execute_reply": "2022-01-14T01:26:10.160260Z",
     "shell.execute_reply.started": "2022-01-14T01:18:10.502633Z"
    },
    "papermill": {
     "duration": 0.140294,
     "end_time": "2022-01-14T01:26:10.161015",
     "exception": false,
     "start_time": "2022-01-14T01:26:10.020721",
     "status": "completed"
    },
    "tags": []
   },
   "outputs": [],
   "source": [
    "#Convert Do Not Email, Do Not Call, Converted to boolean values\n",
    "for c in ['Do Not Email', 'Do Not Call', 'Converted']:\n",
    "    mql[c] = mql[c].replace('Yes',1)\n",
    "    mql[c] = mql[c].replace('No',0)\n",
    "    mql[c] = mql[c].astype(bool)"
   ]
  },
  {
   "cell_type": "markdown",
   "metadata": {
    "papermill": {
     "duration": 0.111548,
     "end_time": "2022-01-14T01:26:10.387610",
     "exception": false,
     "start_time": "2022-01-14T01:26:10.276062",
     "status": "completed"
    },
    "tags": []
   },
   "source": [
    "#### Null Handling: TotalVisits & Page Views Per Visit\n",
    "\n",
    "* **TotalVisit**: The total number of visits made by the customer on the website.\n",
    "* **Page Views Per Visit**: The total number of visits made by the customer on the website.\n",
    "\n",
    "To choose the most effective imputation technique, we evaluate the distribution of each of these features."
   ]
  },
  {
   "cell_type": "code",
   "execution_count": 10,
   "metadata": {
    "execution": {
     "iopub.execute_input": "2022-01-14T01:26:10.672534Z",
     "iopub.status.busy": "2022-01-14T01:26:10.671760Z",
     "iopub.status.idle": "2022-01-14T01:26:11.119698Z",
     "shell.execute_reply": "2022-01-14T01:26:11.120453Z",
     "shell.execute_reply.started": "2022-01-14T01:18:10.536343Z"
    },
    "papermill": {
     "duration": 0.621341,
     "end_time": "2022-01-14T01:26:11.120675",
     "exception": false,
     "start_time": "2022-01-14T01:26:10.499334",
     "status": "completed"
    },
    "tags": []
   },
   "outputs": [
    {
     "name": "stdout",
     "output_type": "stream",
     "text": [
      "count    9103.000000\n",
      "mean        3.445238\n",
      "std         4.854853\n",
      "min         0.000000\n",
      "25%         1.000000\n",
      "50%         3.000000\n",
      "75%         5.000000\n",
      "max       251.000000\n",
      "Name: TotalVisits, dtype: float64 \n",
      "\n"
     ]
    },
    {
     "data": {
      "text/plain": [
       "Text(0.5, 1.0, 'Distribution of Total Visits to Website')"
      ]
     },
     "execution_count": 10,
     "metadata": {},
     "output_type": "execute_result"
    },
    {
     "data": {
      "image/png": "[encoded data removed]",
      "text/plain": [
       "<Figure size 432x288 with 1 Axes>"
      ]
     },
     "metadata": {
      "needs_background": "light"
     },
     "output_type": "display_data"
    }
   ],
   "source": [
    "#Examine distribution of Total Visits\n",
    "print(mql['TotalVisits'].describe(),\"\\n\")\n",
    "\n",
    "sns.histplot(x='TotalVisits', data=mql, bins=50)\n",
    "plt.title(\"Distribution of Total Visits to Website\")"
   ]
  },
  {
   "cell_type": "code",
   "execution_count": 11,
   "metadata": {
    "execution": {
     "iopub.execute_input": "2022-01-14T01:26:11.357612Z",
     "iopub.status.busy": "2022-01-14T01:26:11.356495Z",
     "iopub.status.idle": "2022-01-14T01:26:11.669390Z",
     "shell.execute_reply": "2022-01-14T01:26:11.670218Z",
     "shell.execute_reply.started": "2022-01-14T01:18:10.900364Z"
    },
    "papermill": {
     "duration": 0.43108,
     "end_time": "2022-01-14T01:26:11.670466",
     "exception": false,
     "start_time": "2022-01-14T01:26:11.239386",
     "status": "completed"
    },
    "tags": []
   },
   "outputs": [
    {
     "name": "stdout",
     "output_type": "stream",
     "text": [
      "count    9103.000000\n",
      "mean        2.362820\n",
      "std         2.161418\n",
      "min         0.000000\n",
      "25%         1.000000\n",
      "50%         2.000000\n",
      "75%         3.000000\n",
      "max        55.000000\n",
      "Name: Page Views Per Visit, dtype: float64 \n",
      "\n"
     ]
    },
    {
     "data": {
      "text/plain": [
       "Text(0.5, 1.0, 'Distribution of Page Views Per Visit')"
      ]
     },
     "execution_count": 11,
     "metadata": {},
     "output_type": "execute_result"
    },
    {
     "data": {
      "image/png": "[encoded data removed]",
      "text/plain": [
       "<Figure size 432x288 with 1 Axes>"
      ]
     },
     "metadata": {
      "needs_background": "light"
     },
     "output_type": "display_data"
    }
   ],
   "source": [
    "#Examine distribution of Page Views per Visit\n",
    "print(mql['Page Views Per Visit'].describe(),\"\\n\")\n",
    "\n",
    "sns.histplot(x='Page Views Per Visit', data=mql, bins=50)\n",
    "plt.title(\"Distribution of Page Views Per Visit\")"
   ]
  },
  {
   "cell_type": "markdown",
   "metadata": {
    "papermill": {
     "duration": 0.115615,
     "end_time": "2022-01-14T01:26:11.900500",
     "exception": false,
     "start_time": "2022-01-14T01:26:11.784885",
     "status": "completed"
    },
    "tags": []
   },
   "source": [
    "The distributions for both these features is severely left-skewed, suggesting that median imputation would be best suited to handle nulls.\n",
    "\n",
    "In addition, TotalVisits should be an integer, not a float."
   ]
  },
  {
   "cell_type": "code",
   "execution_count": 12,
   "metadata": {
    "execution": {
     "iopub.execute_input": "2022-01-14T01:26:12.136691Z",
     "iopub.status.busy": "2022-01-14T01:26:12.135864Z",
     "iopub.status.idle": "2022-01-14T01:26:12.143631Z",
     "shell.execute_reply": "2022-01-14T01:26:12.144210Z",
     "shell.execute_reply.started": "2022-01-14T01:18:11.275313Z"
    },
    "papermill": {
     "duration": 0.125702,
     "end_time": "2022-01-14T01:26:12.144422",
     "exception": false,
     "start_time": "2022-01-14T01:26:12.018720",
     "status": "completed"
    },
    "tags": []
   },
   "outputs": [],
   "source": [
    "#Impute nulls in both features with median value of the feature\n",
    "mql['TotalVisits'] = mql['TotalVisits'].fillna(mql['TotalVisits'].median())\n",
    "mql['Page Views Per Visit'] = mql['Page Views Per Visit'].fillna(mql['Page Views Per Visit'].median())\n",
    "\n",
    "#Convert data type to int\n",
    "mql['TotalVisits'] = mql['TotalVisits'].astype('int')"
   ]
  },
  {
   "cell_type": "markdown",
   "metadata": {
    "papermill": {
     "duration": 0.112313,
     "end_time": "2022-01-14T01:26:12.368885",
     "exception": false,
     "start_time": "2022-01-14T01:26:12.256572",
     "status": "completed"
    },
    "tags": []
   },
   "source": [
    "#### Null Handling: Last Activity\n",
    "\n",
    "* **Last Activity**: Last activity performed by the customer. Includes Email Opened, Olark Chat Conversation, etc.\n",
    "\n",
    "Assess the distribution of the feature to determine best null imputation method."
   ]
  },
  {
   "cell_type": "code",
   "execution_count": 13,
   "metadata": {
    "execution": {
     "iopub.execute_input": "2022-01-14T01:26:12.598194Z",
     "iopub.status.busy": "2022-01-14T01:26:12.597447Z",
     "iopub.status.idle": "2022-01-14T01:26:12.933647Z",
     "shell.execute_reply": "2022-01-14T01:26:12.932491Z",
     "shell.execute_reply.started": "2022-01-14T01:18:11.290086Z"
    },
    "papermill": {
     "duration": 0.452611,
     "end_time": "2022-01-14T01:26:12.933834",
     "exception": false,
     "start_time": "2022-01-14T01:26:12.481223",
     "status": "completed"
    },
    "tags": []
   },
   "outputs": [
    {
     "data": {
      "text/plain": [
       "Text(0.5, 1.0, 'Distribution of Last Activity')"
      ]
     },
     "execution_count": 13,
     "metadata": {},
     "output_type": "execute_result"
    },
    {
     "data": {
      "image/png": "[encoded data removed]",
      "text/plain": [
       "<Figure size 432x288 with 1 Axes>"
      ]
     },
     "metadata": {
      "needs_background": "light"
     },
     "output_type": "display_data"
    }
   ],
   "source": [
    "#Plot distribution of leads by Last Activity\n",
    "sns.countplot(y='Last Activity', data=mql, order = mql['Last Activity'].value_counts().index)\n",
    "plt.title('Distribution of Last Activity')"
   ]
  },
  {
   "cell_type": "markdown",
   "metadata": {
    "papermill": {
     "duration": 0.113373,
     "end_time": "2022-01-14T01:26:13.161221",
     "exception": false,
     "start_time": "2022-01-14T01:26:13.047848",
     "status": "completed"
    },
    "tags": []
   },
   "source": [
    "No category for Last Activity stands out as the likely value for nulls in this feature. As a result, imputing nulls with a new category called \"Null\" is best."
   ]
  },
  {
   "cell_type": "code",
   "execution_count": 14,
   "metadata": {
    "execution": {
     "iopub.execute_input": "2022-01-14T01:26:13.397001Z",
     "iopub.status.busy": "2022-01-14T01:26:13.396258Z",
     "iopub.status.idle": "2022-01-14T01:26:13.402442Z",
     "shell.execute_reply": "2022-01-14T01:26:13.402952Z",
     "shell.execute_reply.started": "2022-01-14T01:18:11.668452Z"
    },
    "papermill": {
     "duration": 0.123702,
     "end_time": "2022-01-14T01:26:13.403175",
     "exception": false,
     "start_time": "2022-01-14T01:26:13.279473",
     "status": "completed"
    },
    "tags": []
   },
   "outputs": [],
   "source": [
    "#Impute nulls with new category\n",
    "mql['Last Activity'] = mql['Last Activity'].fillna('Null')"
   ]
  },
  {
   "cell_type": "markdown",
   "metadata": {
    "papermill": {
     "duration": 0.114367,
     "end_time": "2022-01-14T01:26:13.631928",
     "exception": false,
     "start_time": "2022-01-14T01:26:13.517561",
     "status": "completed"
    },
    "tags": []
   },
   "source": [
    "#### Null Handling: Country\n",
    "\n",
    "* **Country**: The country of the customer.\n",
    "\n",
    "Assess the distribution of the feature to identify the appropriate null handling method."
   ]
  },
  {
   "cell_type": "code",
   "execution_count": 15,
   "metadata": {
    "execution": {
     "iopub.execute_input": "2022-01-14T01:26:13.869081Z",
     "iopub.status.busy": "2022-01-14T01:26:13.868070Z",
     "iopub.status.idle": "2022-01-14T01:26:14.366485Z",
     "shell.execute_reply": "2022-01-14T01:26:14.367017Z",
     "shell.execute_reply.started": "2022-01-14T01:18:11.677542Z"
    },
    "papermill": {
     "duration": 0.618937,
     "end_time": "2022-01-14T01:26:14.367248",
     "exception": false,
     "start_time": "2022-01-14T01:26:13.748311",
     "status": "completed"
    },
    "tags": []
   },
   "outputs": [
    {
     "data": {
      "text/plain": [
       "Text(0.5, 1.0, 'Distribution of Leads by Country')"
      ]
     },
     "execution_count": 15,
     "metadata": {},
     "output_type": "execute_result"
    },
    {
     "data": {
      "image/png": "[encoded data removed]",
      "text/plain": [
       "<Figure size 432x576 with 1 Axes>"
      ]
     },
     "metadata": {
      "needs_background": "light"
     },
     "output_type": "display_data"
    }
   ],
   "source": [
    "#Plot distribution of Leads by Country\n",
    "plt.figure(figsize=(6,8))\n",
    "sns.countplot(y='Country', data=mql, order = mql['Country'].value_counts().index)\n",
    "plt.title('Distribution of Leads by Country')"
   ]
  },
  {
   "cell_type": "code",
   "execution_count": 16,
   "metadata": {
    "execution": {
     "iopub.execute_input": "2022-01-14T01:26:14.603574Z",
     "iopub.status.busy": "2022-01-14T01:26:14.602894Z",
     "iopub.status.idle": "2022-01-14T01:26:14.611594Z",
     "shell.execute_reply": "2022-01-14T01:26:14.610785Z",
     "shell.execute_reply.started": "2022-01-14T01:18:12.223793Z"
    },
    "papermill": {
     "duration": 0.127395,
     "end_time": "2022-01-14T01:26:14.611815",
     "exception": false,
     "start_time": "2022-01-14T01:26:14.484420",
     "status": "completed"
    },
    "tags": []
   },
   "outputs": [
    {
     "name": "stdout",
     "output_type": "stream",
     "text": [
      "26.63 % of values in Country are null.\n"
     ]
    }
   ],
   "source": [
    "#Print the percentage of values that are null in the Country feature\n",
    "print(round(mql['Country'].isna().sum()*100/len(mql['Country']),2),'% of values in Country are null.')"
   ]
  },
  {
   "cell_type": "markdown",
   "metadata": {
    "papermill": {
     "duration": 0.120141,
     "end_time": "2022-01-14T01:26:14.850261",
     "exception": false,
     "start_time": "2022-01-14T01:26:14.730120",
     "status": "completed"
    },
    "tags": []
   },
   "source": [
    "Maybe we can deduce the country a lead is located in from the city they have indicated they are located in."
   ]
  },
  {
   "cell_type": "code",
   "execution_count": 17,
   "metadata": {
    "execution": {
     "iopub.execute_input": "2022-01-14T01:26:15.089020Z",
     "iopub.status.busy": "2022-01-14T01:26:15.088304Z",
     "iopub.status.idle": "2022-01-14T01:26:15.322882Z",
     "shell.execute_reply": "2022-01-14T01:26:15.322331Z",
     "shell.execute_reply.started": "2022-01-14T01:18:12.233886Z"
    },
    "papermill": {
     "duration": 0.357763,
     "end_time": "2022-01-14T01:26:15.323042",
     "exception": false,
     "start_time": "2022-01-14T01:26:14.965279",
     "status": "completed"
    },
    "tags": []
   },
   "outputs": [
    {
     "data": {
      "text/plain": [
       "Text(0.5, 1.0, 'Distribution of Leads by City where Country is null')"
      ]
     },
     "execution_count": 17,
     "metadata": {},
     "output_type": "execute_result"
    },
    {
     "data": {
      "image/png": "[encoded data removed]",
      "text/plain": [
       "<Figure size 432x288 with 1 Axes>"
      ]
     },
     "metadata": {
      "needs_background": "light"
     },
     "output_type": "display_data"
    }
   ],
   "source": [
    "#Plot distribution of City where Country is null\n",
    "sns.countplot(y='City', data=mql[mql['Country'].isna()], order = mql['City'].value_counts().index)\n",
    "plt.title('Distribution of Leads by City where Country is null')"
   ]
  },
  {
   "cell_type": "markdown",
   "metadata": {
    "papermill": {
     "duration": 0.117351,
     "end_time": "2022-01-14T01:26:15.557245",
     "exception": false,
     "start_time": "2022-01-14T01:26:15.439894",
     "status": "completed"
    },
    "tags": []
   },
   "source": [
    "For cities that are located in India, we can impute null values in Country as \"India\". Otherwise, we should impute nulls in Country as \"Unknown\""
   ]
  },
  {
   "cell_type": "code",
   "execution_count": 18,
   "metadata": {
    "execution": {
     "iopub.execute_input": "2022-01-14T01:26:15.798353Z",
     "iopub.status.busy": "2022-01-14T01:26:15.797592Z",
     "iopub.status.idle": "2022-01-14T01:26:16.745240Z",
     "shell.execute_reply": "2022-01-14T01:26:16.745786Z",
     "shell.execute_reply.started": "2022-01-14T01:18:12.504123Z"
    },
    "papermill": {
     "duration": 1.072087,
     "end_time": "2022-01-14T01:26:16.745974",
     "exception": false,
     "start_time": "2022-01-14T01:26:15.673887",
     "status": "completed"
    },
    "tags": []
   },
   "outputs": [],
   "source": [
    "#Impute nulls in Country based on Country\n",
    "india_cities = ['Mumbai','Other Cities of Maharashtra','Thane & Outskirts']\n",
    "\n",
    "for i in mql[mql['Country'].isnull()].index:\n",
    "    if mql.loc[i,'City'] in india_cities:\n",
    "        mql.loc[i,'Country'] = 'India'\n",
    "    else:\n",
    "        mql.loc[i,'Country'] = 'Unknown'"
   ]
  },
  {
   "cell_type": "markdown",
   "metadata": {
    "papermill": {
     "duration": 0.117324,
     "end_time": "2022-01-14T01:26:16.981458",
     "exception": false,
     "start_time": "2022-01-14T01:26:16.864134",
     "status": "completed"
    },
    "tags": []
   },
   "source": [
    "#### Data Type Correction: Search, Magazine, Newspaper Article, X Education Forums, Newspaper, Digital Advertisement\n",
    "\n",
    "* **Search**: Indicating whether the customer had seen the ad in any of the listed items (i.e. during a web search).\n",
    "* **Magazine**: Indicating whether the customer had seen the ad in any of the listed items (i.e. in a magazine).\n",
    "* **Newspaper Article**: Indicating whether the customer had seen the ad in any of the listed items (i.e. in a newspaper article).\n",
    "* **X Education Forums**: Indicating whether the customer had seen the ad in any of the listed items (i.e. in a X Education forum).\n",
    "* **Newspaper**: Indicating whether the customer had seen the ad in any of the listed items (i.e. in a newspaper).\n",
    "* **Digital Advertisement**: Indicating whether the customer had seen the ad in any of the listed items (i.e. in a digital ad).\n",
    "\n",
    "These features will be easier to manipulate, interpret, and use in a model by converting them to boolean values."
   ]
  },
  {
   "cell_type": "code",
   "execution_count": 19,
   "metadata": {
    "execution": {
     "iopub.execute_input": "2022-01-14T01:26:17.219698Z",
     "iopub.status.busy": "2022-01-14T01:26:17.218665Z",
     "iopub.status.idle": "2022-01-14T01:26:17.273309Z",
     "shell.execute_reply": "2022-01-14T01:26:17.273866Z",
     "shell.execute_reply.started": "2022-01-14T01:18:13.475577Z"
    },
    "papermill": {
     "duration": 0.175626,
     "end_time": "2022-01-14T01:26:17.274049",
     "exception": false,
     "start_time": "2022-01-14T01:26:17.098423",
     "status": "completed"
    },
    "tags": []
   },
   "outputs": [],
   "source": [
    "#Convert yes/no field to boolean\n",
    "for c in ['Search', 'Magazine', 'Newspaper Article', 'X Education Forums', 'Newspaper', 'Digital Advertisement']:\n",
    "    mql[c] = mql[c].replace('Yes',1)\n",
    "    mql[c] = mql[c].replace('No',0)\n",
    "    mql[c] = mql[c].astype(bool)"
   ]
  },
  {
   "cell_type": "markdown",
   "metadata": {
    "papermill": {
     "duration": 0.117575,
     "end_time": "2022-01-14T01:26:17.511550",
     "exception": false,
     "start_time": "2022-01-14T01:26:17.393975",
     "status": "completed"
    },
    "tags": []
   },
   "source": [
    "#### Data Type Correction: Through Recommendations, Receive More Updates About Our Courses\n",
    "\n",
    "* **Through Recommendations**: Indicates whether the customer came in through recommendations.\n",
    "* **Receive More Updates About Our Courses**: Indicates whether the customer chose to receive more updates about the courses.\n",
    "\n",
    "These features will be easier to manipulate, interpret, and use in a model by converting them to boolean values."
   ]
  },
  {
   "cell_type": "code",
   "execution_count": 20,
   "metadata": {
    "execution": {
     "iopub.execute_input": "2022-01-14T01:26:17.754181Z",
     "iopub.status.busy": "2022-01-14T01:26:17.752833Z",
     "iopub.status.idle": "2022-01-14T01:26:17.774695Z",
     "shell.execute_reply": "2022-01-14T01:26:17.775273Z",
     "shell.execute_reply.started": "2022-01-14T01:18:13.531512Z"
    },
    "papermill": {
     "duration": 0.146533,
     "end_time": "2022-01-14T01:26:17.775461",
     "exception": false,
     "start_time": "2022-01-14T01:26:17.628928",
     "status": "completed"
    },
    "tags": []
   },
   "outputs": [],
   "source": [
    "#Convert yes/no field to boolean\n",
    "for c in ['Through Recommendations', 'Receive More Updates About Our Courses']:\n",
    "    mql[c] = mql[c].replace('Yes',1)\n",
    "    mql[c] = mql[c].replace('No',0)\n",
    "    mql[c] = mql[c].astype(bool)"
   ]
  },
  {
   "cell_type": "markdown",
   "metadata": {
    "papermill": {
     "duration": 0.11857,
     "end_time": "2022-01-14T01:26:18.014989",
     "exception": false,
     "start_time": "2022-01-14T01:26:17.896419",
     "status": "completed"
    },
    "tags": []
   },
   "source": [
    "#### Null Handling: Specialization, How did you hear about X Education\n",
    "\n",
    "* **Specialization**: The industry domain in which the customer worked before. Includes the level 'Select Specialization' which means the customer had not selected this option while filling the form.\n",
    "* **How did you hear about X Education**: The source from which the customer heard about X Education.\n",
    "* **What is your current occupation**: Indicates whether the customer is a student, umemployed or employed.\n",
    "* **What matters most to you in choosing a course**: An option selected by the customer indicating what is their main motto behind doing this course.\n",
    "\n",
    "Assess the distribution of these features to determine best null imputation method."
   ]
  },
  {
   "cell_type": "code",
   "execution_count": 21,
   "metadata": {
    "execution": {
     "iopub.execute_input": "2022-01-14T01:26:18.259223Z",
     "iopub.status.busy": "2022-01-14T01:26:18.257977Z",
     "iopub.status.idle": "2022-01-14T01:26:19.475290Z",
     "shell.execute_reply": "2022-01-14T01:26:19.474691Z",
     "shell.execute_reply.started": "2022-01-14T01:18:13.557950Z"
    },
    "papermill": {
     "duration": 1.339585,
     "end_time": "2022-01-14T01:26:19.475470",
     "exception": false,
     "start_time": "2022-01-14T01:26:18.135885",
     "status": "completed"
    },
    "tags": []
   },
   "outputs": [
    {
     "data": {
      "image/png": "[encoded data removed]",
      "text/plain": [
       "<Figure size 1728x288 with 4 Axes>"
      ]
     },
     "metadata": {
      "needs_background": "light"
     },
     "output_type": "display_data"
    }
   ],
   "source": [
    "#Examine distribution dropdown fields\n",
    "dropdown_fields = ['Specialization','How did you hear about X Education','What is your current occupation','What matters most to you in choosing a course']\n",
    "\n",
    "fig, axes = plt.subplots(nrows=1, ncols=len(dropdown_fields), figsize=(24, 4))\n",
    "\n",
    "for i in range(len(dropdown_fields)):\n",
    "    sns.countplot(x=dropdown_fields[i], data=mql, ax=axes[i])\n",
    "    plt.sca(axes[i])\n",
    "    plt.title(\"Distribution of \" + dropdown_fields[i])\n",
    "    plt.xticks(rotation=90)"
   ]
  },
  {
   "cell_type": "markdown",
   "metadata": {
    "papermill": {
     "duration": 0.121572,
     "end_time": "2022-01-14T01:26:19.719322",
     "exception": false,
     "start_time": "2022-01-14T01:26:19.597750",
     "status": "completed"
    },
    "tags": []
   },
   "source": [
    "There seems to be a lot of \"Select\" values, which are equal to nulls. These values can be swapped out for nulls.\n",
    "\n",
    "We can impute nulls as \"Unknown\" since there isn't a single value for either of these qualities with which nulls can be associated. We may also determine the proportion of null values in each feature.\n"
   ]
  },
  {
   "cell_type": "code",
   "execution_count": 22,
   "metadata": {
    "execution": {
     "iopub.execute_input": "2022-01-14T01:26:19.970058Z",
     "iopub.status.busy": "2022-01-14T01:26:19.968913Z",
     "iopub.status.idle": "2022-01-14T01:26:19.985178Z",
     "shell.execute_reply": "2022-01-14T01:26:19.984536Z",
     "shell.execute_reply.started": "2022-01-14T01:18:14.791462Z"
    },
    "papermill": {
     "duration": 0.14567,
     "end_time": "2022-01-14T01:26:19.985393",
     "exception": false,
     "start_time": "2022-01-14T01:26:19.839723",
     "status": "completed"
    },
    "tags": []
   },
   "outputs": [
    {
     "name": "stdout",
     "output_type": "stream",
     "text": [
      "36.58 % of values in Specialization are null.\n",
      "78.46 % of values in How did you hear about X Education are null.\n",
      "29.11 % of values in What is your current occupation are null.\n",
      "29.32 % of values in What matters most to you in choosing a course are null.\n"
     ]
    }
   ],
   "source": [
    "#Impute \"Select\" with null & print percentage of values in each feature with nulls\n",
    "for c in dropdown_fields:\n",
    "    mql[c].replace('Select',np.NaN, inplace=True)\n",
    "    print(round(mql[c].isna().sum()*100/len(mql[c]),2),'% of values in',c,'are null.')"
   ]
  },
  {
   "cell_type": "code",
   "execution_count": 23,
   "metadata": {
    "execution": {
     "iopub.execute_input": "2022-01-14T01:26:20.232290Z",
     "iopub.status.busy": "2022-01-14T01:26:20.231052Z",
     "iopub.status.idle": "2022-01-14T01:26:20.241672Z",
     "shell.execute_reply": "2022-01-14T01:26:20.242239Z",
     "shell.execute_reply.started": "2022-01-14T01:18:14.813358Z"
    },
    "papermill": {
     "duration": 0.136191,
     "end_time": "2022-01-14T01:26:20.242427",
     "exception": false,
     "start_time": "2022-01-14T01:26:20.106236",
     "status": "completed"
    },
    "tags": []
   },
   "outputs": [],
   "source": [
    "#Impure nulls with \"Unknown\"\n",
    "for c in dropdown_fields:\n",
    "    mql[c].fillna('Unknown', inplace=True)"
   ]
  },
  {
   "cell_type": "markdown",
   "metadata": {
    "papermill": {
     "duration": 0.120415,
     "end_time": "2022-01-14T01:26:20.483166",
     "exception": false,
     "start_time": "2022-01-14T01:26:20.362751",
     "status": "completed"
    },
    "tags": []
   },
   "source": [
    "#### Data Type Correction: Update me on Supply Chain Content, Get updates on DM Content\n",
    "\n",
    "* **Update me on Supply Chain Content**: Indicates whether the customer wants updates on the Supply Chain Content.\n",
    "* **Get updates on DM Content**: Indicates whether the customer wants updates on the DM Content.\n",
    "\n",
    "These features will be easier to manipulate, interpret, and use in a model by converting them to boolean values."
   ]
  },
  {
   "cell_type": "code",
   "execution_count": 24,
   "metadata": {
    "execution": {
     "iopub.execute_input": "2022-01-14T01:26:20.739189Z",
     "iopub.status.busy": "2022-01-14T01:26:20.728926Z",
     "iopub.status.idle": "2022-01-14T01:26:20.751355Z",
     "shell.execute_reply": "2022-01-14T01:26:20.751990Z",
     "shell.execute_reply.started": "2022-01-14T01:18:14.833186Z"
    },
    "papermill": {
     "duration": 0.149784,
     "end_time": "2022-01-14T01:26:20.752205",
     "exception": false,
     "start_time": "2022-01-14T01:26:20.602421",
     "status": "completed"
    },
    "tags": []
   },
   "outputs": [],
   "source": [
    "#Convert yes/no field to boolean\n",
    "for c in ['Update me on Supply Chain Content', 'Get updates on DM Content']:\n",
    "    mql[c] = mql[c].replace('Yes',1)\n",
    "    mql[c] = mql[c].replace('No',0)\n",
    "    mql[c] = mql[c].astype(bool)"
   ]
  },
  {
   "cell_type": "markdown",
   "metadata": {
    "papermill": {
     "duration": 0.119749,
     "end_time": "2022-01-14T01:26:20.992722",
     "exception": false,
     "start_time": "2022-01-14T01:26:20.872973",
     "status": "completed"
    },
    "tags": []
   },
   "source": [
    "#### Drop Feature: Tags\n",
    "\n",
    "* **Tags**: Tags assigned to customers indicating the current status of the lead.\n",
    "\n",
    "Since Tags is determined by the progress of a lead through the marketing funnel, is it likely endogenous to the conversion status of the lead. As a result, this feature should be dropped."
   ]
  },
  {
   "cell_type": "code",
   "execution_count": 25,
   "metadata": {
    "execution": {
     "iopub.execute_input": "2022-01-14T01:26:21.237334Z",
     "iopub.status.busy": "2022-01-14T01:26:21.236209Z",
     "iopub.status.idle": "2022-01-14T01:26:21.243789Z",
     "shell.execute_reply": "2022-01-14T01:26:21.244396Z",
     "shell.execute_reply.started": "2022-01-14T01:18:14.867334Z"
    },
    "papermill": {
     "duration": 0.133004,
     "end_time": "2022-01-14T01:26:21.244600",
     "exception": false,
     "start_time": "2022-01-14T01:26:21.111596",
     "status": "completed"
    },
    "tags": []
   },
   "outputs": [],
   "source": [
    "#Drop Tags feature\n",
    "mql.drop(columns='Tags', axis=1, inplace=True)"
   ]
  },
  {
   "cell_type": "markdown",
   "metadata": {
    "papermill": {
     "duration": 0.123017,
     "end_time": "2022-01-14T01:26:21.487008",
     "exception": false,
     "start_time": "2022-01-14T01:26:21.363991",
     "status": "completed"
    },
    "tags": []
   },
   "source": [
    "#### Drop Feature: Lead Quality\n",
    "\n",
    "* **Lead Quality**: Indicates the quality of lead based on the data and intuition the employee who has been assigned to the lead.\n",
    "\n",
    "Since Lead Quality is the measure we are looking to replace with the Lead Score, we should not include in our model."
   ]
  },
  {
   "cell_type": "code",
   "execution_count": 26,
   "metadata": {
    "execution": {
     "iopub.execute_input": "2022-01-14T01:26:21.734580Z",
     "iopub.status.busy": "2022-01-14T01:26:21.733467Z",
     "iopub.status.idle": "2022-01-14T01:26:21.740888Z",
     "shell.execute_reply": "2022-01-14T01:26:21.741485Z",
     "shell.execute_reply.started": "2022-01-14T01:18:14.876564Z"
    },
    "papermill": {
     "duration": 0.13508,
     "end_time": "2022-01-14T01:26:21.741674",
     "exception": false,
     "start_time": "2022-01-14T01:26:21.606594",
     "status": "completed"
    },
    "tags": []
   },
   "outputs": [],
   "source": [
    "#Drop Lead Quality feature\n",
    "mql.drop(columns='Lead Quality', axis=1, inplace=True)"
   ]
  },
  {
   "cell_type": "markdown",
   "metadata": {
    "papermill": {
     "duration": 0.118504,
     "end_time": "2022-01-14T01:26:21.979278",
     "exception": false,
     "start_time": "2022-01-14T01:26:21.860774",
     "status": "completed"
    },
    "tags": []
   },
   "source": [
    "#### Null Handling: Lead Profile\n",
    "\n",
    "* **Lead Profile**: A lead level assigned to each customer based on their profile.\n",
    "\n",
    "Assess the distribution of this feature to determine best null imputation method."
   ]
  },
  {
   "cell_type": "code",
   "execution_count": 27,
   "metadata": {
    "execution": {
     "iopub.execute_input": "2022-01-14T01:26:22.225335Z",
     "iopub.status.busy": "2022-01-14T01:26:22.224189Z",
     "iopub.status.idle": "2022-01-14T01:26:22.490382Z",
     "shell.execute_reply": "2022-01-14T01:26:22.490965Z",
     "shell.execute_reply.started": "2022-01-14T01:18:14.891274Z"
    },
    "papermill": {
     "duration": 0.390679,
     "end_time": "2022-01-14T01:26:22.491175",
     "exception": false,
     "start_time": "2022-01-14T01:26:22.100496",
     "status": "completed"
    },
    "tags": []
   },
   "outputs": [
    {
     "data": {
      "text/plain": [
       "Text(0.5, 1.0, 'Distribution of Leads by Lead Profile')"
      ]
     },
     "execution_count": 27,
     "metadata": {},
     "output_type": "execute_result"
    },
    {
     "data": {
      "image/png": "[encoded data removed]",
      "text/plain": [
       "<Figure size 432x288 with 1 Axes>"
      ]
     },
     "metadata": {
      "needs_background": "light"
     },
     "output_type": "display_data"
    }
   ],
   "source": [
    "#Plot distribution of Lead Profile\n",
    "sns.countplot(y='Lead Profile', data=mql, order = mql['Lead Profile'].value_counts().index)\n",
    "plt.title('Distribution of Leads by Lead Profile')"
   ]
  },
  {
   "cell_type": "markdown",
   "metadata": {
    "papermill": {
     "duration": 0.120369,
     "end_time": "2022-01-14T01:26:22.731843",
     "exception": false,
     "start_time": "2022-01-14T01:26:22.611474",
     "status": "completed"
    },
    "tags": []
   },
   "source": [
    "A large portion of values are \"Select\", which is equivalent to a null. There is no single lead profile that stands out as a clear value for null imputation. As a result, nulls should be imputed with the value \"Unknown\"."
   ]
  },
  {
   "cell_type": "code",
   "execution_count": 28,
   "metadata": {
    "execution": {
     "iopub.execute_input": "2022-01-14T01:26:22.981236Z",
     "iopub.status.busy": "2022-01-14T01:26:22.980039Z",
     "iopub.status.idle": "2022-01-14T01:26:22.986074Z",
     "shell.execute_reply": "2022-01-14T01:26:22.986686Z",
     "shell.execute_reply.started": "2022-01-14T01:18:15.173482Z"
    },
    "papermill": {
     "duration": 0.131924,
     "end_time": "2022-01-14T01:26:22.986861",
     "exception": false,
     "start_time": "2022-01-14T01:26:22.854937",
     "status": "completed"
    },
    "tags": []
   },
   "outputs": [],
   "source": [
    "#Impute \"Select\" value with null\n",
    "mql['Lead Profile'].replace('Select', np.NaN, inplace=True)"
   ]
  },
  {
   "cell_type": "code",
   "execution_count": 29,
   "metadata": {
    "execution": {
     "iopub.execute_input": "2022-01-14T01:26:23.233275Z",
     "iopub.status.busy": "2022-01-14T01:26:23.232174Z",
     "iopub.status.idle": "2022-01-14T01:26:23.238961Z",
     "shell.execute_reply": "2022-01-14T01:26:23.238307Z",
     "shell.execute_reply.started": "2022-01-14T01:18:15.181883Z"
    },
    "papermill": {
     "duration": 0.131952,
     "end_time": "2022-01-14T01:26:23.239142",
     "exception": false,
     "start_time": "2022-01-14T01:26:23.107190",
     "status": "completed"
    },
    "tags": []
   },
   "outputs": [],
   "source": [
    "#Impute nulls with \"Unknown\"\n",
    "mql['Lead Profile'].fillna('Unknown', inplace=True)"
   ]
  },
  {
   "cell_type": "markdown",
   "metadata": {
    "papermill": {
     "duration": 0.120184,
     "end_time": "2022-01-14T01:26:23.480317",
     "exception": false,
     "start_time": "2022-01-14T01:26:23.360133",
     "status": "completed"
    },
    "tags": []
   },
   "source": [
    "#### Null Handling: City\n",
    "\n",
    "* **City**: The city of the customer.\n",
    "\n",
    "Assess the distribution of the feature to determine best null imputation method."
   ]
  },
  {
   "cell_type": "code",
   "execution_count": 30,
   "metadata": {
    "execution": {
     "iopub.execute_input": "2022-01-14T01:26:23.727020Z",
     "iopub.status.busy": "2022-01-14T01:26:23.726335Z",
     "iopub.status.idle": "2022-01-14T01:26:23.992385Z",
     "shell.execute_reply": "2022-01-14T01:26:23.991669Z",
     "shell.execute_reply.started": "2022-01-14T01:18:15.196973Z"
    },
    "papermill": {
     "duration": 0.389836,
     "end_time": "2022-01-14T01:26:23.992537",
     "exception": false,
     "start_time": "2022-01-14T01:26:23.602701",
     "status": "completed"
    },
    "tags": []
   },
   "outputs": [
    {
     "data": {
      "text/plain": [
       "Text(0.5, 1.0, 'Distribution of City')"
      ]
     },
     "execution_count": 30,
     "metadata": {},
     "output_type": "execute_result"
    },
    {
     "data": {
      "image/png": "[encoded data removed]",
      "text/plain": [
       "<Figure size 432x288 with 1 Axes>"
      ]
     },
     "metadata": {
      "needs_background": "light"
     },
     "output_type": "display_data"
    }
   ],
   "source": [
    "#Examine distribution of City\n",
    "sns.countplot(y='City', data=mql)\n",
    "plt.title('Distribution of City')"
   ]
  },
  {
   "cell_type": "markdown",
   "metadata": {
    "papermill": {
     "duration": 0.121663,
     "end_time": "2022-01-14T01:26:24.236035",
     "exception": false,
     "start_time": "2022-01-14T01:26:24.114372",
     "status": "completed"
    },
    "tags": []
   },
   "source": [
    "Again, \"Select\" is used a lot as values, which is the same as a null. No particular city stands out as a definite value for null imputation. Therefore, the value \"Unknown\" should be imputed to nulls.\n"
   ]
  },
  {
   "cell_type": "code",
   "execution_count": 31,
   "metadata": {
    "execution": {
     "iopub.execute_input": "2022-01-14T01:26:24.484303Z",
     "iopub.status.busy": "2022-01-14T01:26:24.483548Z",
     "iopub.status.idle": "2022-01-14T01:26:24.489164Z",
     "shell.execute_reply": "2022-01-14T01:26:24.489826Z",
     "shell.execute_reply.started": "2022-01-14T01:18:15.464095Z"
    },
    "papermill": {
     "duration": 0.131977,
     "end_time": "2022-01-14T01:26:24.490028",
     "exception": false,
     "start_time": "2022-01-14T01:26:24.358051",
     "status": "completed"
    },
    "tags": []
   },
   "outputs": [],
   "source": [
    "#Impute \"Select\" value with null\n",
    "mql['City'].replace('Select', np.NaN, inplace=True)"
   ]
  },
  {
   "cell_type": "code",
   "execution_count": 32,
   "metadata": {
    "execution": {
     "iopub.execute_input": "2022-01-14T01:26:24.738321Z",
     "iopub.status.busy": "2022-01-14T01:26:24.737538Z",
     "iopub.status.idle": "2022-01-14T01:26:24.743568Z",
     "shell.execute_reply": "2022-01-14T01:26:24.744207Z",
     "shell.execute_reply.started": "2022-01-14T01:18:15.472376Z"
    },
    "papermill": {
     "duration": 0.132003,
     "end_time": "2022-01-14T01:26:24.744401",
     "exception": false,
     "start_time": "2022-01-14T01:26:24.612398",
     "status": "completed"
    },
    "tags": []
   },
   "outputs": [],
   "source": [
    "#Impute nulls with \"Unknown\"\n",
    "mql['City'].fillna('Unknown', inplace=True)"
   ]
  },
  {
   "cell_type": "markdown",
   "metadata": {
    "papermill": {
     "duration": 0.126828,
     "end_time": "2022-01-14T01:26:24.994222",
     "exception": false,
     "start_time": "2022-01-14T01:26:24.867394",
     "status": "completed"
    },
    "tags": []
   },
   "source": [
    "#### Correction of Data Type: I consent to paying the money via cheque, Mastering The Interview is available without cost.\n",
    "\n",
    "* If the consumer has accepted to pay the amount by cheque or not, it is indicated by the phrase \"I agree to pay the amount by cheque.\"\n",
    "* Whether the consumer wants a free copy of \"Mastering the Interview\" is indicated by the phrase \"A free copy of Mastering The Interview.\"\n",
    "\n",
    "\n",
    "By converting these qualities into boolean values, they will be simpler to use in models, modify, and comprehend."
   ]
  },
  {
   "cell_type": "code",
   "execution_count": 33,
   "metadata": {
    "execution": {
     "iopub.execute_input": "2022-01-14T01:26:25.240687Z",
     "iopub.status.busy": "2022-01-14T01:26:25.239934Z",
     "iopub.status.idle": "2022-01-14T01:26:25.260340Z",
     "shell.execute_reply": "2022-01-14T01:26:25.260885Z",
     "shell.execute_reply.started": "2022-01-14T01:18:15.485639Z"
    },
    "papermill": {
     "duration": 0.145638,
     "end_time": "2022-01-14T01:26:25.261082",
     "exception": false,
     "start_time": "2022-01-14T01:26:25.115444",
     "status": "completed"
    },
    "tags": []
   },
   "outputs": [],
   "source": [
    "#Convert remaining yes/no fields to boolean values\n",
    "for c in ['I agree to pay the amount through cheque', 'A free copy of Mastering The Interview']:\n",
    "    mql[c] = mql[c].replace('Yes',1)\n",
    "    mql[c] = mql[c].replace('No',0)\n",
    "    mql[c] = mql[c].astype(bool)"
   ]
  },
  {
   "cell_type": "markdown",
   "metadata": {
    "papermill": {
     "duration": 0.123487,
     "end_time": "2022-01-14T01:26:25.507599",
     "exception": false,
     "start_time": "2022-01-14T01:26:25.384112",
     "status": "completed"
    },
    "tags": []
   },
   "source": [
    "#### Data Type Correction: Object to Category\n",
    "\n",
    "Categorical variables with be more easily interpreted by our model if they recorded as such."
   ]
  },
  {
   "cell_type": "code",
   "execution_count": 34,
   "metadata": {
    "execution": {
     "iopub.execute_input": "2022-01-14T01:26:25.755838Z",
     "iopub.status.busy": "2022-01-14T01:26:25.755043Z",
     "iopub.status.idle": "2022-01-14T01:26:25.791647Z",
     "shell.execute_reply": "2022-01-14T01:26:25.790949Z",
     "shell.execute_reply.started": "2022-01-14T01:18:15.514215Z"
    },
    "papermill": {
     "duration": 0.162245,
     "end_time": "2022-01-14T01:26:25.791806",
     "exception": false,
     "start_time": "2022-01-14T01:26:25.629561",
     "status": "completed"
    },
    "tags": []
   },
   "outputs": [],
   "source": [
    "#Convert string type fields to category type\n",
    "for c in mql.columns:\n",
    "    if mql[c].dtype=='object': mql[c] = mql[c].astype('category')"
   ]
  },
  {
   "cell_type": "markdown",
   "metadata": {
    "papermill": {
     "duration": 0.123204,
     "end_time": "2022-01-14T01:26:26.040166",
     "exception": false,
     "start_time": "2022-01-14T01:26:25.916962",
     "status": "completed"
    },
    "tags": []
   },
   "source": [
    "Finally, we can review the dataset to ensure no features contain nulls and all features are of the correct data type."
   ]
  },
  {
   "cell_type": "markdown",
   "metadata": {
    "papermill": {
     "duration": 0.123532,
     "end_time": "2022-01-14T01:26:26.286529",
     "exception": false,
     "start_time": "2022-01-14T01:26:26.162997",
     "status": "completed"
    },
    "tags": []
   },
   "source": [
    "#### Asymmetrique Index & Scores\n",
    "\n",
    "* **Asymmetrique Activity Index**: An index and score assigned to each customer based on their activity and their profile.\n",
    "* **Asymmetrique Profile Index**: An index and score assigned to each customer based on their activity and their profile.\n",
    "* **Asymmetrique Activity Score**: An index and score assigned to each customer based on their activity and their profile.\n",
    "* **Asymmetrique Profile Score**: An index and score assigned to each customer based on their activity and their profile.\n",
    "\n",
    "Assess the distribution of each feature to determine the most appropriate null imputation method."
   ]
  },
  {
   "cell_type": "code",
   "execution_count": 35,
   "metadata": {
    "execution": {
     "iopub.execute_input": "2022-01-14T01:26:26.538915Z",
     "iopub.status.busy": "2022-01-14T01:26:26.538161Z",
     "iopub.status.idle": "2022-01-14T01:26:26.551597Z",
     "shell.execute_reply": "2022-01-14T01:26:26.552138Z",
     "shell.execute_reply.started": "2022-01-14T01:18:15.561301Z"
    },
    "papermill": {
     "duration": 0.143248,
     "end_time": "2022-01-14T01:26:26.552320",
     "exception": false,
     "start_time": "2022-01-14T01:26:26.409072",
     "status": "completed"
    },
    "tags": []
   },
   "outputs": [
    {
     "data": {
      "text/html": [
       "<div>\n",
       "<style scoped>\n",
       "    .dataframe tbody tr th:only-of-type {\n",
       "        vertical-align: middle;\n",
       "    }\n",
       "\n",
       "    .dataframe tbody tr th {\n",
       "        vertical-align: top;\n",
       "    }\n",
       "\n",
       "    .dataframe thead th {\n",
       "        text-align: right;\n",
       "    }\n",
       "</style>\n",
       "<table border=\"1\" class=\"dataframe\">\n",
       "  <thead>\n",
       "    <tr style=\"text-align: right;\">\n",
       "      <th></th>\n",
       "      <th>Asymmetrique Activity Score</th>\n",
       "      <th>Asymmetrique Profile Score</th>\n",
       "    </tr>\n",
       "  </thead>\n",
       "  <tbody>\n",
       "    <tr>\n",
       "      <th>count</th>\n",
       "      <td>5022.000000</td>\n",
       "      <td>5022.000000</td>\n",
       "    </tr>\n",
       "    <tr>\n",
       "      <th>mean</th>\n",
       "      <td>14.306252</td>\n",
       "      <td>16.344883</td>\n",
       "    </tr>\n",
       "    <tr>\n",
       "      <th>std</th>\n",
       "      <td>1.386694</td>\n",
       "      <td>1.811395</td>\n",
       "    </tr>\n",
       "    <tr>\n",
       "      <th>min</th>\n",
       "      <td>7.000000</td>\n",
       "      <td>11.000000</td>\n",
       "    </tr>\n",
       "    <tr>\n",
       "      <th>25%</th>\n",
       "      <td>14.000000</td>\n",
       "      <td>15.000000</td>\n",
       "    </tr>\n",
       "    <tr>\n",
       "      <th>50%</th>\n",
       "      <td>14.000000</td>\n",
       "      <td>16.000000</td>\n",
       "    </tr>\n",
       "    <tr>\n",
       "      <th>75%</th>\n",
       "      <td>15.000000</td>\n",
       "      <td>18.000000</td>\n",
       "    </tr>\n",
       "    <tr>\n",
       "      <th>max</th>\n",
       "      <td>18.000000</td>\n",
       "      <td>20.000000</td>\n",
       "    </tr>\n",
       "  </tbody>\n",
       "</table>\n",
       "</div>"
      ],
      "text/plain": [
       "       Asymmetrique Activity Score  Asymmetrique Profile Score\n",
       "count                  5022.000000                 5022.000000\n",
       "mean                     14.306252                   16.344883\n",
       "std                       1.386694                    1.811395\n",
       "min                       7.000000                   11.000000\n",
       "25%                      14.000000                   15.000000\n",
       "50%                      14.000000                   16.000000\n",
       "75%                      15.000000                   18.000000\n",
       "max                      18.000000                   20.000000"
      ]
     },
     "execution_count": 35,
     "metadata": {},
     "output_type": "execute_result"
    }
   ],
   "source": [
    "#Print descriptive statistics of score features\n",
    "stats_AS = pd.DataFrame(\n",
    "    {'Asymmetrique Activity Score':mql['Asymmetrique Activity Score'].describe(),\n",
    "    'Asymmetrique Profile Score':mql['Asymmetrique Profile Score'].describe()})\n",
    "stats_AS"
   ]
  },
  {
   "cell_type": "code",
   "execution_count": 36,
   "metadata": {
    "execution": {
     "iopub.execute_input": "2022-01-14T01:26:26.803415Z",
     "iopub.status.busy": "2022-01-14T01:26:26.802699Z",
     "iopub.status.idle": "2022-01-14T01:26:27.508901Z",
     "shell.execute_reply": "2022-01-14T01:26:27.509532Z",
     "shell.execute_reply.started": "2022-01-14T01:18:15.579438Z"
    },
    "papermill": {
     "duration": 0.834869,
     "end_time": "2022-01-14T01:26:27.509808",
     "exception": false,
     "start_time": "2022-01-14T01:26:26.674939",
     "status": "completed"
    },
    "tags": []
   },
   "outputs": [
    {
     "data": {
      "image/png": "[encoded data removed]",
      "text/plain": [
       "<Figure size 864x288 with 2 Axes>"
      ]
     },
     "metadata": {
      "needs_background": "light"
     },
     "output_type": "display_data"
    }
   ],
   "source": [
    "#Plot distribution of Asymmetrique Activity Score & Asymmetrique Profile Score\n",
    "score_fields = ['Asymmetrique Activity Score','Asymmetrique Profile Score']\n",
    "\n",
    "fig, axes = plt.subplots(nrows=1, ncols=len(score_fields), figsize=(12, 4))\n",
    "\n",
    "for i in range(len(score_fields)):\n",
    "    sns.histplot(x=score_fields[i], data=mql, ax=axes[i])       \n",
    "    plt.sca(axes[i])\n",
    "    plt.title(\"Distribution of \" + score_fields[i])"
   ]
  },
  {
   "cell_type": "markdown",
   "metadata": {
    "papermill": {
     "duration": 0.123303,
     "end_time": "2022-01-14T01:26:27.757006",
     "exception": false,
     "start_time": "2022-01-14T01:26:27.633703",
     "status": "completed"
    },
    "tags": []
   },
   "source": [
    "Both distributions are slight left-skewed. As a result, median imputation may be more appropriate than mean imputation."
   ]
  },
  {
   "cell_type": "code",
   "execution_count": 37,
   "metadata": {
    "execution": {
     "iopub.execute_input": "2022-01-14T01:26:28.012655Z",
     "iopub.status.busy": "2022-01-14T01:26:28.011934Z",
     "iopub.status.idle": "2022-01-14T01:26:28.014812Z",
     "shell.execute_reply": "2022-01-14T01:26:28.015460Z",
     "shell.execute_reply.started": "2022-01-14T01:18:16.256993Z"
    },
    "papermill": {
     "duration": 0.13414,
     "end_time": "2022-01-14T01:26:28.015689",
     "exception": false,
     "start_time": "2022-01-14T01:26:27.881549",
     "status": "completed"
    },
    "tags": []
   },
   "outputs": [],
   "source": [
    "#Impute nulls with median\n",
    "for f in score_fields:\n",
    "    mql[f].fillna(mql[f].median(), inplace=True)"
   ]
  },
  {
   "cell_type": "code",
   "execution_count": 38,
   "metadata": {
    "execution": {
     "iopub.execute_input": "2022-01-14T01:26:28.429925Z",
     "iopub.status.busy": "2022-01-14T01:26:28.418325Z",
     "iopub.status.idle": "2022-01-14T01:26:28.754889Z",
     "shell.execute_reply": "2022-01-14T01:26:28.754240Z",
     "shell.execute_reply.started": "2022-01-14T01:18:16.266595Z"
    },
    "papermill": {
     "duration": 0.614385,
     "end_time": "2022-01-14T01:26:28.755032",
     "exception": false,
     "start_time": "2022-01-14T01:26:28.140647",
     "status": "completed"
    },
    "tags": []
   },
   "outputs": [
    {
     "data": {
      "image/png": "[encoded data removed]",
      "text/plain": [
       "<Figure size 864x288 with 2 Axes>"
      ]
     },
     "metadata": {
      "needs_background": "light"
     },
     "output_type": "display_data"
    }
   ],
   "source": [
    "#Plot distribution of Asymmetrique Activity Index & Asymmetrique Profile Index\n",
    "index_fields = ['Asymmetrique Activity Index','Asymmetrique Profile Index']\n",
    "\n",
    "fig, axes = plt.subplots(nrows=1, ncols=len(index_fields), figsize=(12, 4))\n",
    "\n",
    "for i in range(len(index_fields)):\n",
    "    sns.countplot(x=index_fields[i], data=mql, ax=axes[i], order=['03.Low','02.Medium','01.High'])       \n",
    "    plt.sca(axes[i])\n",
    "    plt.title(\"Distribution of \" + index_fields[i])"
   ]
  },
  {
   "cell_type": "markdown",
   "metadata": {
    "papermill": {
     "duration": 0.126103,
     "end_time": "2022-01-14T01:26:29.006346",
     "exception": false,
     "start_time": "2022-01-14T01:26:28.880243",
     "status": "completed"
    },
    "tags": []
   },
   "source": [
    "Both of these index features appear to be redundant if the index features are simply grouped based on the asymmetrique score. By looking at the average Asymetrique Score by Asymetrique Index, we can verify this."
   ]
  },
  {
   "cell_type": "code",
   "execution_count": 39,
   "metadata": {
    "execution": {
     "iopub.execute_input": "2022-01-14T01:26:29.258371Z",
     "iopub.status.busy": "2022-01-14T01:26:29.257595Z",
     "iopub.status.idle": "2022-01-14T01:26:29.270118Z",
     "shell.execute_reply": "2022-01-14T01:26:29.270585Z",
     "shell.execute_reply.started": "2022-01-14T01:18:16.620905Z"
    },
    "papermill": {
     "duration": 0.139588,
     "end_time": "2022-01-14T01:26:29.270774",
     "exception": false,
     "start_time": "2022-01-14T01:26:29.131186",
     "status": "completed"
    },
    "tags": []
   },
   "outputs": [
    {
     "data": {
      "text/html": [
       "<div>\n",
       "<style scoped>\n",
       "    .dataframe tbody tr th:only-of-type {\n",
       "        vertical-align: middle;\n",
       "    }\n",
       "\n",
       "    .dataframe tbody tr th {\n",
       "        vertical-align: top;\n",
       "    }\n",
       "\n",
       "    .dataframe thead th {\n",
       "        text-align: right;\n",
       "    }\n",
       "</style>\n",
       "<table border=\"1\" class=\"dataframe\">\n",
       "  <thead>\n",
       "    <tr style=\"text-align: right;\">\n",
       "      <th></th>\n",
       "      <th>Asymmetrique Activity Score</th>\n",
       "    </tr>\n",
       "    <tr>\n",
       "      <th>Asymmetrique Activity Index</th>\n",
       "      <th></th>\n",
       "    </tr>\n",
       "  </thead>\n",
       "  <tbody>\n",
       "    <tr>\n",
       "      <th>01.High</th>\n",
       "      <td>16.437272</td>\n",
       "    </tr>\n",
       "    <tr>\n",
       "      <th>02.Medium</th>\n",
       "      <td>14.134931</td>\n",
       "    </tr>\n",
       "    <tr>\n",
       "      <th>03.Low</th>\n",
       "      <td>11.290055</td>\n",
       "    </tr>\n",
       "  </tbody>\n",
       "</table>\n",
       "</div>"
      ],
      "text/plain": [
       "                             Asymmetrique Activity Score\n",
       "Asymmetrique Activity Index                             \n",
       "01.High                                        16.437272\n",
       "02.Medium                                      14.134931\n",
       "03.Low                                         11.290055"
      ]
     },
     "execution_count": 39,
     "metadata": {},
     "output_type": "execute_result"
    }
   ],
   "source": [
    "#Group by Asymmetrique Activity Index\n",
    "grouped_by_activity_index = mql.groupby('Asymmetrique Activity Index').agg({'Asymmetrique Activity Score':'mean'})\n",
    "grouped_by_activity_index"
   ]
  },
  {
   "cell_type": "code",
   "execution_count": 40,
   "metadata": {
    "execution": {
     "iopub.execute_input": "2022-01-14T01:26:29.523998Z",
     "iopub.status.busy": "2022-01-14T01:26:29.523280Z",
     "iopub.status.idle": "2022-01-14T01:26:29.534365Z",
     "shell.execute_reply": "2022-01-14T01:26:29.534993Z",
     "shell.execute_reply.started": "2022-01-14T01:18:16.635957Z"
    },
    "papermill": {
     "duration": 0.139731,
     "end_time": "2022-01-14T01:26:29.535194",
     "exception": false,
     "start_time": "2022-01-14T01:26:29.395463",
     "status": "completed"
    },
    "tags": []
   },
   "outputs": [
    {
     "data": {
      "text/html": [
       "<div>\n",
       "<style scoped>\n",
       "    .dataframe tbody tr th:only-of-type {\n",
       "        vertical-align: middle;\n",
       "    }\n",
       "\n",
       "    .dataframe tbody tr th {\n",
       "        vertical-align: top;\n",
       "    }\n",
       "\n",
       "    .dataframe thead th {\n",
       "        text-align: right;\n",
       "    }\n",
       "</style>\n",
       "<table border=\"1\" class=\"dataframe\">\n",
       "  <thead>\n",
       "    <tr style=\"text-align: right;\">\n",
       "      <th></th>\n",
       "      <th>Asymmetrique Profile Score</th>\n",
       "    </tr>\n",
       "    <tr>\n",
       "      <th>Asymmetrique Profile Index</th>\n",
       "      <th></th>\n",
       "    </tr>\n",
       "  </thead>\n",
       "  <tbody>\n",
       "    <tr>\n",
       "      <th>01.High</th>\n",
       "      <td>18.128007</td>\n",
       "    </tr>\n",
       "    <tr>\n",
       "      <th>02.Medium</th>\n",
       "      <td>14.987446</td>\n",
       "    </tr>\n",
       "    <tr>\n",
       "      <th>03.Low</th>\n",
       "      <td>11.709677</td>\n",
       "    </tr>\n",
       "  </tbody>\n",
       "</table>\n",
       "</div>"
      ],
      "text/plain": [
       "                            Asymmetrique Profile Score\n",
       "Asymmetrique Profile Index                            \n",
       "01.High                                      18.128007\n",
       "02.Medium                                    14.987446\n",
       "03.Low                                       11.709677"
      ]
     },
     "execution_count": 40,
     "metadata": {},
     "output_type": "execute_result"
    }
   ],
   "source": [
    "#Group by Asymmetrique Profile Index\n",
    "grouped_by_profile_index = mql.groupby('Asymmetrique Profile Index').agg({'Asymmetrique Profile Score':'mean'})\n",
    "grouped_by_profile_index"
   ]
  },
  {
   "cell_type": "markdown",
   "metadata": {
    "papermill": {
     "duration": 0.126118,
     "end_time": "2022-01-14T01:26:29.791317",
     "exception": false,
     "start_time": "2022-01-14T01:26:29.665199",
     "status": "completed"
    },
    "tags": []
   },
   "source": [
    "As can be seen above, Asymmetrique Activity/Profile Index values appear to simply bucket Asymmetrique Activity/Profile Scores. As a result, the index features are redundant and can be dropped."
   ]
  },
  {
   "cell_type": "code",
   "execution_count": 41,
   "metadata": {
    "execution": {
     "iopub.execute_input": "2022-01-14T01:26:30.049562Z",
     "iopub.status.busy": "2022-01-14T01:26:30.048840Z",
     "iopub.status.idle": "2022-01-14T01:26:30.054889Z",
     "shell.execute_reply": "2022-01-14T01:26:30.055496Z",
     "shell.execute_reply.started": "2022-01-14T01:18:16.656873Z"
    },
    "papermill": {
     "duration": 0.136955,
     "end_time": "2022-01-14T01:26:30.055686",
     "exception": false,
     "start_time": "2022-01-14T01:26:29.918731",
     "status": "completed"
    },
    "tags": []
   },
   "outputs": [],
   "source": [
    "#Drop Asymmetrique Index columns\n",
    "mql.drop(columns=['Asymmetrique Activity Index','Asymmetrique Profile Index'], axis=1, inplace=True)"
   ]
  },
  {
   "cell_type": "markdown",
   "metadata": {
    "papermill": {
     "duration": 0.125171,
     "end_time": "2022-01-14T01:26:30.351389",
     "exception": false,
     "start_time": "2022-01-14T01:26:30.226218",
     "status": "completed"
    },
    "tags": []
   },
   "source": [
    "We can now review the remaining features in the dataset to ensure none of any nulls and that all data types are correct."
   ]
  },
  {
   "cell_type": "code",
   "execution_count": 42,
   "metadata": {
    "execution": {
     "iopub.execute_input": "2022-01-14T01:26:30.604867Z",
     "iopub.status.busy": "2022-01-14T01:26:30.604156Z",
     "iopub.status.idle": "2022-01-14T01:26:30.624946Z",
     "shell.execute_reply": "2022-01-14T01:26:30.625600Z",
     "shell.execute_reply.started": "2022-01-14T01:18:16.665216Z"
    },
    "papermill": {
     "duration": 0.149313,
     "end_time": "2022-01-14T01:26:30.625792",
     "exception": false,
     "start_time": "2022-01-14T01:26:30.476479",
     "status": "completed"
    },
    "tags": []
   },
   "outputs": [
    {
     "name": "stdout",
     "output_type": "stream",
     "text": [
      "<class 'pandas.core.frame.DataFrame'>\n",
      "RangeIndex: 9240 entries, 0 to 9239\n",
      "Data columns (total 32 columns):\n",
      " #   Column                                         Non-Null Count  Dtype   \n",
      "---  ------                                         --------------  -----   \n",
      " 0   Lead Number                                    9240 non-null   int64   \n",
      " 1   Lead Origin                                    9240 non-null   category\n",
      " 2   Lead Source                                    9240 non-null   category\n",
      " 3   Do Not Email                                   9240 non-null   bool    \n",
      " 4   Do Not Call                                    9240 non-null   bool    \n",
      " 5   Converted                                      9240 non-null   bool    \n",
      " 6   TotalVisits                                    9240 non-null   int64   \n",
      " 7   Total Time Spent on Website                    9240 non-null   int64   \n",
      " 8   Page Views Per Visit                           9240 non-null   float64 \n",
      " 9   Last Activity                                  9240 non-null   category\n",
      " 10  Country                                        9240 non-null   category\n",
      " 11  Specialization                                 9240 non-null   category\n",
      " 12  How did you hear about X Education             9240 non-null   category\n",
      " 13  What is your current occupation                9240 non-null   category\n",
      " 14  What matters most to you in choosing a course  9240 non-null   category\n",
      " 15  Search                                         9240 non-null   bool    \n",
      " 16  Magazine                                       9240 non-null   bool    \n",
      " 17  Newspaper Article                              9240 non-null   bool    \n",
      " 18  X Education Forums                             9240 non-null   bool    \n",
      " 19  Newspaper                                      9240 non-null   bool    \n",
      " 20  Digital Advertisement                          9240 non-null   bool    \n",
      " 21  Through Recommendations                        9240 non-null   bool    \n",
      " 22  Receive More Updates About Our Courses         9240 non-null   bool    \n",
      " 23  Update me on Supply Chain Content              9240 non-null   bool    \n",
      " 24  Get updates on DM Content                      9240 non-null   bool    \n",
      " 25  Lead Profile                                   9240 non-null   category\n",
      " 26  City                                           9240 non-null   category\n",
      " 27  Asymmetrique Activity Score                    9240 non-null   float64 \n",
      " 28  Asymmetrique Profile Score                     9240 non-null   float64 \n",
      " 29  I agree to pay the amount through cheque       9240 non-null   bool    \n",
      " 30  A free copy of Mastering The Interview         9240 non-null   bool    \n",
      " 31  Last Notable Activity                          9240 non-null   category\n",
      "dtypes: bool(15), category(11), float64(3), int64(3)\n",
      "memory usage: 673.7 KB\n"
     ]
    }
   ],
   "source": [
    "#Review dataset\n",
    "mql.info()"
   ]
  },
  {
   "cell_type": "markdown",
   "metadata": {
    "papermill": {
     "duration": 0.135582,
     "end_time": "2022-01-14T01:26:30.889456",
     "exception": false,
     "start_time": "2022-01-14T01:26:30.753874",
     "status": "completed"
    },
    "tags": []
   },
   "source": [
    "# Exploratory Data Analysis"
   ]
  },
  {
   "cell_type": "markdown",
   "metadata": {
    "papermill": {
     "duration": 0.125895,
     "end_time": "2022-01-14T01:26:31.142113",
     "exception": false,
     "start_time": "2022-01-14T01:26:31.016218",
     "status": "completed"
    },
    "tags": []
   },
   "source": [
    "This section seeks to explore the relationship between each feature of the dataset and the target variable, Converted.\n",
    "\n",
    "To facilitate this process, we define two functions that allow rapid comparison of distribution by Converted."
   ]
  },
  {
   "cell_type": "code",
   "execution_count": 43,
   "metadata": {
    "execution": {
     "iopub.execute_input": "2022-01-14T01:26:31.397499Z",
     "iopub.status.busy": "2022-01-14T01:26:31.396733Z",
     "iopub.status.idle": "2022-01-14T01:26:31.404116Z",
     "shell.execute_reply": "2022-01-14T01:26:31.404626Z",
     "shell.execute_reply.started": "2022-01-14T01:18:16.701775Z"
    },
    "papermill": {
     "duration": 0.137095,
     "end_time": "2022-01-14T01:26:31.404850",
     "exception": false,
     "start_time": "2022-01-14T01:26:31.267755",
     "status": "completed"
    },
    "tags": []
   },
   "outputs": [],
   "source": [
    "#Create functions to facilitate EDA\n",
    "\n",
    "def count_by_converted(feature, target='Converted'):\n",
    "    #Plot a seaborn countplot for the feature by Converted & add a relevant title\n",
    "    sns.countplot(y=feature, data=mql, hue=target, order = mql[feature].value_counts().index)\n",
    "    plt.title(\"Distribution of \" + feature + \" by Converted\")\n",
    "    plt.show\n",
    "    \n",
    "def confusionmatrix_by_converted(feature, target='Converted'):\n",
    "    #Plot confusion matrix heatmap of a boolean feature vs. Converted & add relevant labels\n",
    "    cm=confusion_matrix(mql[feature], mql[target])\n",
    "    sns.heatmap(cm, annot=True, fmt='', xticklabels=['No','Yes'], yticklabels=['No','Yes'], cmap='Purples')\n",
    "    plt.title(feature + \" vs. \" + target + \" Confusion Matrix\")\n",
    "    plt.xlabel(target)\n",
    "    plt.ylabel(feature)\n",
    "    plt.show()"
   ]
  },
  {
   "cell_type": "markdown",
   "metadata": {
    "papermill": {
     "duration": 0.128158,
     "end_time": "2022-01-14T01:26:31.662487",
     "exception": false,
     "start_time": "2022-01-14T01:26:31.534329",
     "status": "completed"
    },
    "tags": []
   },
   "source": [
    "#### Univariate Analysis - Converted"
   ]
  },
  {
   "cell_type": "code",
   "execution_count": 44,
   "metadata": {
    "execution": {
     "iopub.execute_input": "2022-01-14T01:26:31.924954Z",
     "iopub.status.busy": "2022-01-14T01:26:31.924199Z",
     "iopub.status.idle": "2022-01-14T01:26:31.929905Z",
     "shell.execute_reply": "2022-01-14T01:26:31.930541Z",
     "shell.execute_reply.started": "2022-01-14T01:18:16.713064Z"
    },
    "papermill": {
     "duration": 0.139702,
     "end_time": "2022-01-14T01:26:31.930731",
     "exception": false,
     "start_time": "2022-01-14T01:26:31.791029",
     "status": "completed"
    },
    "tags": []
   },
   "outputs": [
    {
     "data": {
      "text/plain": [
       "38.54"
      ]
     },
     "execution_count": 44,
     "metadata": {},
     "output_type": "execute_result"
    }
   ],
   "source": [
    "#Calculate the conversion rate of leads across the dataset\n",
    "round(mql['Converted'].mean()*100,2)"
   ]
  },
  {
   "cell_type": "markdown",
   "metadata": {
    "papermill": {
     "duration": 0.12784,
     "end_time": "2022-01-14T01:26:32.185013",
     "exception": false,
     "start_time": "2022-01-14T01:26:32.057173",
     "status": "completed"
    },
    "tags": []
   },
   "source": [
    "The average lead conversion rate across this dataset is 38.54%."
   ]
  },
  {
   "cell_type": "markdown",
   "metadata": {
    "papermill": {
     "duration": 0.128724,
     "end_time": "2022-01-14T01:26:32.440480",
     "exception": false,
     "start_time": "2022-01-14T01:26:32.311756",
     "status": "completed"
    },
    "tags": []
   },
   "source": [
    "#### Univariate Analysis - Lead Origin"
   ]
  },
  {
   "cell_type": "code",
   "execution_count": 45,
   "metadata": {
    "execution": {
     "iopub.execute_input": "2022-01-14T01:26:32.704502Z",
     "iopub.status.busy": "2022-01-14T01:26:32.703748Z",
     "iopub.status.idle": "2022-01-14T01:26:33.005818Z",
     "shell.execute_reply": "2022-01-14T01:26:33.005014Z",
     "shell.execute_reply.started": "2022-01-14T01:18:16.730541Z"
    },
    "papermill": {
     "duration": 0.43604,
     "end_time": "2022-01-14T01:26:33.005986",
     "exception": false,
     "start_time": "2022-01-14T01:26:32.569946",
     "status": "completed"
    },
    "tags": []
   },
   "outputs": [
    {
     "data": {
      "image/png": "[encoded data removed]",
      "text/plain": [
       "<Figure size 432x288 with 1 Axes>"
      ]
     },
     "metadata": {
      "needs_background": "light"
     },
     "output_type": "display_data"
    }
   ],
   "source": [
    "#Plot distribution of Lead Origin by Converted\n",
    "count_by_converted('Lead Origin')"
   ]
  },
  {
   "cell_type": "markdown",
   "metadata": {
    "papermill": {
     "duration": 0.133694,
     "end_time": "2022-01-14T01:26:33.267057",
     "exception": false,
     "start_time": "2022-01-14T01:26:33.133363",
     "status": "completed"
    },
    "tags": []
   },
   "source": [
    "**Observations**\n",
    "* Significantly more leads convert when they originate from the \"Lead Add Form\".\n",
    "* The lead conversion rate appears slighly higher among leads originating from \"Landing Page Submission\" than from \"API\"."
   ]
  },
  {
   "cell_type": "markdown",
   "metadata": {
    "papermill": {
     "duration": 0.126718,
     "end_time": "2022-01-14T01:26:33.522263",
     "exception": false,
     "start_time": "2022-01-14T01:26:33.395545",
     "status": "completed"
    },
    "tags": []
   },
   "source": [
    "#### Univariate Analysis - Lead Source"
   ]
  },
  {
   "cell_type": "code",
   "execution_count": 46,
   "metadata": {
    "execution": {
     "iopub.execute_input": "2022-01-14T01:26:33.785817Z",
     "iopub.status.busy": "2022-01-14T01:26:33.784997Z",
     "iopub.status.idle": "2022-01-14T01:26:34.338026Z",
     "shell.execute_reply": "2022-01-14T01:26:34.337480Z",
     "shell.execute_reply.started": "2022-01-14T01:18:17.024554Z"
    },
    "papermill": {
     "duration": 0.686767,
     "end_time": "2022-01-14T01:26:34.338221",
     "exception": false,
     "start_time": "2022-01-14T01:26:33.651454",
     "status": "completed"
    },
    "tags": []
   },
   "outputs": [
    {
     "data": {
      "image/png": "[encoded data removed]",
      "text/plain": [
       "<Figure size 432x576 with 1 Axes>"
      ]
     },
     "metadata": {
      "needs_background": "light"
     },
     "output_type": "display_data"
    }
   ],
   "source": [
    "#Plot distribution of Lead Source by Converted\n",
    "plt.figure(figsize=(6, 8))\n",
    "count_by_converted('Lead Source')"
   ]
  },
  {
   "cell_type": "markdown",
   "metadata": {
    "papermill": {
     "duration": 0.130163,
     "end_time": "2022-01-14T01:26:34.602180",
     "exception": false,
     "start_time": "2022-01-14T01:26:34.472017",
     "status": "completed"
    },
    "tags": []
   },
   "source": [
    "**Observations**\n",
    " * **It is feasible that raising the proportion of leads that are referred and that come from the Willingak Website might raise the overall conversion rate.** Conversion rate looks to be highest for leads that come from the Wellingak Website or that are recommended.\n",
    "\n",
    "* Although the amount of leads from Google and Direct Traffic is comparable, the conversion rate for leads from Google looks to be greater. Organic Search generates less leads than Google, but the conversion rates of leads from both of these sources tend to be comparable."
   ]
  },
  {
   "cell_type": "markdown",
   "metadata": {
    "papermill": {
     "duration": 0.143402,
     "end_time": "2022-01-14T01:26:34.887316",
     "exception": false,
     "start_time": "2022-01-14T01:26:34.743914",
     "status": "completed"
    },
    "tags": []
   },
   "source": [
    "#### Univariate Analysis - Do Not Call"
   ]
  },
  {
   "cell_type": "code",
   "execution_count": 47,
   "metadata": {
    "execution": {
     "iopub.execute_input": "2022-01-14T01:26:35.178086Z",
     "iopub.status.busy": "2022-01-14T01:26:35.176847Z",
     "iopub.status.idle": "2022-01-14T01:26:35.435319Z",
     "shell.execute_reply": "2022-01-14T01:26:35.435853Z",
     "shell.execute_reply.started": "2022-01-14T01:18:17.566609Z"
    },
    "papermill": {
     "duration": 0.40229,
     "end_time": "2022-01-14T01:26:35.436036",
     "exception": false,
     "start_time": "2022-01-14T01:26:35.033746",
     "status": "completed"
    },
    "tags": []
   },
   "outputs": [
    {
     "data": {
      "image/png": "[encoded data removed]",
      "text/plain": [
       "<Figure size 432x288 with 2 Axes>"
      ]
     },
     "metadata": {
      "needs_background": "light"
     },
     "output_type": "display_data"
    }
   ],
   "source": [
    "#Plot confusion matrix of Do Not Call against Converted\n",
    "confusionmatrix_by_converted('Do Not Call')"
   ]
  },
  {
   "cell_type": "markdown",
   "metadata": {
    "papermill": {
     "duration": 0.130374,
     "end_time": "2022-01-14T01:26:35.700197",
     "exception": false,
     "start_time": "2022-01-14T01:26:35.569823",
     "status": "completed"
    },
    "tags": []
   },
   "source": [
    "**Observations**\n",
    "* The vast majority of leads indicate \"No\" under Do Not Call, suggesting that the sales team is free to contact them by phone.\n",
    "* The conversion rate among leads that indicate \"No\" under Do Not Call is 38.52%.\n",
    "* While very few leads have a \"Yes\" under Do Not Call, the conversion rate among these appears to be 100%."
   ]
  },
  {
   "cell_type": "markdown",
   "metadata": {
    "papermill": {
     "duration": 0.128834,
     "end_time": "2022-01-14T01:26:35.959697",
     "exception": false,
     "start_time": "2022-01-14T01:26:35.830863",
     "status": "completed"
    },
    "tags": []
   },
   "source": [
    "#### Univariate Analysis - Do Not Email"
   ]
  },
  {
   "cell_type": "code",
   "execution_count": 48,
   "metadata": {
    "execution": {
     "iopub.execute_input": "2022-01-14T01:26:36.223363Z",
     "iopub.status.busy": "2022-01-14T01:26:36.222584Z",
     "iopub.status.idle": "2022-01-14T01:26:36.476736Z",
     "shell.execute_reply": "2022-01-14T01:26:36.475317Z",
     "shell.execute_reply.started": "2022-01-14T01:18:17.824030Z"
    },
    "papermill": {
     "duration": 0.386791,
     "end_time": "2022-01-14T01:26:36.476912",
     "exception": false,
     "start_time": "2022-01-14T01:26:36.090121",
     "status": "completed"
    },
    "tags": []
   },
   "outputs": [
    {
     "data": {
      "image/png": "[encoded data removed]",
      "text/plain": [
       "<Figure size 432x288 with 2 Axes>"
      ]
     },
     "metadata": {
      "needs_background": "light"
     },
     "output_type": "display_data"
    }
   ],
   "source": [
    "#Plot confusion matrix of Do Not Email against Converted\n",
    "confusionmatrix_by_converted('Do Not Email')"
   ]
  },
  {
   "cell_type": "markdown",
   "metadata": {
    "papermill": {
     "duration": 0.129294,
     "end_time": "2022-01-14T01:26:36.736345",
     "exception": false,
     "start_time": "2022-01-14T01:26:36.607051",
     "status": "completed"
    },
    "tags": []
   },
   "source": [
    "**Observations**\n",
    "* Again, the overwhelming majority of leads select \"No\" under Do Not Email, indicating that the sales staff may email them at any time. Leads who select \"No\" under Do Not Call have a conversion rate of 40.47%.\n",
    "\n",
    "* Only 7.94% of leads have the option to \"Yes\" under Do Not Call. 16.07% of them are expected to convert, which is more than half the conversion rate of leads that are email-opening leads."
   ]
  },
  {
   "cell_type": "markdown",
   "metadata": {
    "papermill": {
     "duration": 0.131134,
     "end_time": "2022-01-14T01:26:36.998398",
     "exception": false,
     "start_time": "2022-01-14T01:26:36.867264",
     "status": "completed"
    },
    "tags": []
   },
   "source": [
    "#### Univariate Analysis - TotalVisits"
   ]
  },
  {
   "cell_type": "code",
   "execution_count": 49,
   "metadata": {
    "execution": {
     "iopub.execute_input": "2022-01-14T01:26:37.267041Z",
     "iopub.status.busy": "2022-01-14T01:26:37.266345Z",
     "iopub.status.idle": "2022-01-14T01:26:37.285374Z",
     "shell.execute_reply": "2022-01-14T01:26:37.286003Z",
     "shell.execute_reply.started": "2022-01-14T01:18:18.080163Z"
    },
    "papermill": {
     "duration": 0.156782,
     "end_time": "2022-01-14T01:26:37.286213",
     "exception": false,
     "start_time": "2022-01-14T01:26:37.129431",
     "status": "completed"
    },
    "tags": []
   },
   "outputs": [
    {
     "data": {
      "text/html": [
       "<div>\n",
       "<style scoped>\n",
       "    .dataframe tbody tr th:only-of-type {\n",
       "        vertical-align: middle;\n",
       "    }\n",
       "\n",
       "    .dataframe tbody tr th {\n",
       "        vertical-align: top;\n",
       "    }\n",
       "\n",
       "    .dataframe thead th {\n",
       "        text-align: right;\n",
       "    }\n",
       "</style>\n",
       "<table border=\"1\" class=\"dataframe\">\n",
       "  <thead>\n",
       "    <tr style=\"text-align: right;\">\n",
       "      <th></th>\n",
       "      <th>TotalVisits_Overall</th>\n",
       "      <th>TotalVisits_Converted</th>\n",
       "      <th>TotalVisits_NotConverted</th>\n",
       "    </tr>\n",
       "  </thead>\n",
       "  <tbody>\n",
       "    <tr>\n",
       "      <th>count</th>\n",
       "      <td>9240.000000</td>\n",
       "      <td>3561.000000</td>\n",
       "      <td>5679.000000</td>\n",
       "    </tr>\n",
       "    <tr>\n",
       "      <th>mean</th>\n",
       "      <td>3.438636</td>\n",
       "      <td>3.615838</td>\n",
       "      <td>3.327522</td>\n",
       "    </tr>\n",
       "    <tr>\n",
       "      <th>std</th>\n",
       "      <td>4.819024</td>\n",
       "      <td>5.486307</td>\n",
       "      <td>4.345521</td>\n",
       "    </tr>\n",
       "    <tr>\n",
       "      <th>min</th>\n",
       "      <td>0.000000</td>\n",
       "      <td>0.000000</td>\n",
       "      <td>0.000000</td>\n",
       "    </tr>\n",
       "    <tr>\n",
       "      <th>25%</th>\n",
       "      <td>1.000000</td>\n",
       "      <td>0.000000</td>\n",
       "      <td>1.000000</td>\n",
       "    </tr>\n",
       "    <tr>\n",
       "      <th>50%</th>\n",
       "      <td>3.000000</td>\n",
       "      <td>3.000000</td>\n",
       "      <td>3.000000</td>\n",
       "    </tr>\n",
       "    <tr>\n",
       "      <th>75%</th>\n",
       "      <td>5.000000</td>\n",
       "      <td>5.000000</td>\n",
       "      <td>4.000000</td>\n",
       "    </tr>\n",
       "    <tr>\n",
       "      <th>max</th>\n",
       "      <td>251.000000</td>\n",
       "      <td>251.000000</td>\n",
       "      <td>141.000000</td>\n",
       "    </tr>\n",
       "  </tbody>\n",
       "</table>\n",
       "</div>"
      ],
      "text/plain": [
       "       TotalVisits_Overall  TotalVisits_Converted  TotalVisits_NotConverted\n",
       "count          9240.000000            3561.000000               5679.000000\n",
       "mean              3.438636               3.615838                  3.327522\n",
       "std               4.819024               5.486307                  4.345521\n",
       "min               0.000000               0.000000                  0.000000\n",
       "25%               1.000000               0.000000                  1.000000\n",
       "50%               3.000000               3.000000                  3.000000\n",
       "75%               5.000000               5.000000                  4.000000\n",
       "max             251.000000             251.000000                141.000000"
      ]
     },
     "execution_count": 49,
     "metadata": {},
     "output_type": "execute_result"
    }
   ],
   "source": [
    "#Get descriptive statistics on TotalVisits by Converted\n",
    "stats_TV = pd.DataFrame(\n",
    "    {'TotalVisits_Overall':mql['TotalVisits'].describe(),\n",
    "    'TotalVisits_Converted':mql[mql['Converted']==True]['TotalVisits'].describe(),\n",
    "    'TotalVisits_NotConverted':mql[mql['Converted']==False]['TotalVisits'].describe()})\n",
    "stats_TV"
   ]
  },
  {
   "cell_type": "markdown",
   "metadata": {
    "papermill": {
     "duration": 0.130545,
     "end_time": "2022-01-14T01:26:37.547190",
     "exception": false,
     "start_time": "2022-01-14T01:26:37.416645",
     "status": "completed"
    },
    "tags": []
   },
   "source": [
    "**Observations**\n",
    "* On average, leads that convert appear to visit the website slightly more than leads that do not convert"
   ]
  },
  {
   "cell_type": "code",
   "execution_count": 50,
   "metadata": {
    "execution": {
     "iopub.execute_input": "2022-01-14T01:26:37.815978Z",
     "iopub.status.busy": "2022-01-14T01:26:37.815270Z",
     "iopub.status.idle": "2022-01-14T01:26:38.068873Z",
     "shell.execute_reply": "2022-01-14T01:26:38.068177Z",
     "shell.execute_reply.started": "2022-01-14T01:18:18.105571Z"
    },
    "papermill": {
     "duration": 0.389564,
     "end_time": "2022-01-14T01:26:38.069028",
     "exception": false,
     "start_time": "2022-01-14T01:26:37.679464",
     "status": "completed"
    },
    "tags": []
   },
   "outputs": [
    {
     "data": {
      "image/png": "[encoded data removed]",
      "text/plain": [
       "<Figure size 432x288 with 1 Axes>"
      ]
     },
     "metadata": {
      "needs_background": "light"
     },
     "output_type": "display_data"
    }
   ],
   "source": [
    "#Plot boxplots for distribution of TotalVisits by Converted\n",
    "sns.boxplot(y='TotalVisits', data=mql, x='Converted', hue='Converted')\n",
    "plt.title(\"Distribution of TotalVisits w/ Outliers\")\n",
    "plt.show()"
   ]
  },
  {
   "cell_type": "markdown",
   "metadata": {
    "papermill": {
     "duration": 0.161505,
     "end_time": "2022-01-14T01:26:38.363967",
     "exception": false,
     "start_time": "2022-01-14T01:26:38.202462",
     "status": "completed"
    },
    "tags": []
   },
   "source": [
    "Given the prevalence of outliers, it is difficult to visualise this distribution. We may create the same plot by excluding leads with TotalVisits > 50 in order to more clearly see the distribution of Total visits."
   ]
  },
  {
   "cell_type": "code",
   "execution_count": 51,
   "metadata": {
    "execution": {
     "iopub.execute_input": "2022-01-14T01:26:38.638001Z",
     "iopub.status.busy": "2022-01-14T01:26:38.637230Z",
     "iopub.status.idle": "2022-01-14T01:26:38.881667Z",
     "shell.execute_reply": "2022-01-14T01:26:38.882215Z",
     "shell.execute_reply.started": "2022-01-14T01:18:18.352110Z"
    },
    "papermill": {
     "duration": 0.379719,
     "end_time": "2022-01-14T01:26:38.882394",
     "exception": false,
     "start_time": "2022-01-14T01:26:38.502675",
     "status": "completed"
    },
    "tags": []
   },
   "outputs": [
    {
     "data": {
      "image/png": "[encoded data removed]",
      "text/plain": [
       "<Figure size 432x288 with 1 Axes>"
      ]
     },
     "metadata": {
      "needs_background": "light"
     },
     "output_type": "display_data"
    }
   ],
   "source": [
    "#Remove outliers (TotalVisits > 50) and plot boxplots for distribution of TotalVisits by Converted\n",
    "sns.boxplot(y='TotalVisits', data=mql[mql['TotalVisits']<=50], x='Converted', hue='Converted')\n",
    "plt.title(\"Distribution of TotalVisits w/o Outliers\")\n",
    "plt.show()"
   ]
  },
  {
   "cell_type": "markdown",
   "metadata": {
    "papermill": {
     "duration": 0.131547,
     "end_time": "2022-01-14T01:26:39.146938",
     "exception": false,
     "start_time": "2022-01-14T01:26:39.015391",
     "status": "completed"
    },
    "tags": []
   },
   "source": [
    "**Observations**\n",
    "* In addition to visiting the website more often, leads that convert appear to show a higher spread and IQR than leads that do not convert."
   ]
  },
  {
   "cell_type": "markdown",
   "metadata": {
    "papermill": {
     "duration": 0.131388,
     "end_time": "2022-01-14T01:26:39.410798",
     "exception": false,
     "start_time": "2022-01-14T01:26:39.279410",
     "status": "completed"
    },
    "tags": []
   },
   "source": [
    "#### Univariate Analysis - Total Time Spent on Website"
   ]
  },
  {
   "cell_type": "code",
   "execution_count": 52,
   "metadata": {
    "execution": {
     "iopub.execute_input": "2022-01-14T01:26:39.678959Z",
     "iopub.status.busy": "2022-01-14T01:26:39.677876Z",
     "iopub.status.idle": "2022-01-14T01:26:39.700151Z",
     "shell.execute_reply": "2022-01-14T01:26:39.700754Z",
     "shell.execute_reply.started": "2022-01-14T01:18:18.599878Z"
    },
    "papermill": {
     "duration": 0.158291,
     "end_time": "2022-01-14T01:26:39.700931",
     "exception": false,
     "start_time": "2022-01-14T01:26:39.542640",
     "status": "completed"
    },
    "tags": []
   },
   "outputs": [
    {
     "data": {
      "text/html": [
       "<div>\n",
       "<style scoped>\n",
       "    .dataframe tbody tr th:only-of-type {\n",
       "        vertical-align: middle;\n",
       "    }\n",
       "\n",
       "    .dataframe tbody tr th {\n",
       "        vertical-align: top;\n",
       "    }\n",
       "\n",
       "    .dataframe thead th {\n",
       "        text-align: right;\n",
       "    }\n",
       "</style>\n",
       "<table border=\"1\" class=\"dataframe\">\n",
       "  <thead>\n",
       "    <tr style=\"text-align: right;\">\n",
       "      <th></th>\n",
       "      <th>TotalTime_Overall</th>\n",
       "      <th>TotalTime_Converted</th>\n",
       "      <th>TotalTime_NotConverted</th>\n",
       "    </tr>\n",
       "  </thead>\n",
       "  <tbody>\n",
       "    <tr>\n",
       "      <th>count</th>\n",
       "      <td>9240.000000</td>\n",
       "      <td>3561.000000</td>\n",
       "      <td>5679.000000</td>\n",
       "    </tr>\n",
       "    <tr>\n",
       "      <th>mean</th>\n",
       "      <td>487.698268</td>\n",
       "      <td>738.546757</td>\n",
       "      <td>330.404473</td>\n",
       "    </tr>\n",
       "    <tr>\n",
       "      <th>std</th>\n",
       "      <td>548.021466</td>\n",
       "      <td>615.656010</td>\n",
       "      <td>432.231915</td>\n",
       "    </tr>\n",
       "    <tr>\n",
       "      <th>min</th>\n",
       "      <td>0.000000</td>\n",
       "      <td>0.000000</td>\n",
       "      <td>0.000000</td>\n",
       "    </tr>\n",
       "    <tr>\n",
       "      <th>25%</th>\n",
       "      <td>12.000000</td>\n",
       "      <td>0.000000</td>\n",
       "      <td>16.000000</td>\n",
       "    </tr>\n",
       "    <tr>\n",
       "      <th>50%</th>\n",
       "      <td>248.000000</td>\n",
       "      <td>832.000000</td>\n",
       "      <td>179.000000</td>\n",
       "    </tr>\n",
       "    <tr>\n",
       "      <th>75%</th>\n",
       "      <td>936.000000</td>\n",
       "      <td>1268.000000</td>\n",
       "      <td>393.000000</td>\n",
       "    </tr>\n",
       "    <tr>\n",
       "      <th>max</th>\n",
       "      <td>2272.000000</td>\n",
       "      <td>2253.000000</td>\n",
       "      <td>2272.000000</td>\n",
       "    </tr>\n",
       "  </tbody>\n",
       "</table>\n",
       "</div>"
      ],
      "text/plain": [
       "       TotalTime_Overall  TotalTime_Converted  TotalTime_NotConverted\n",
       "count        9240.000000          3561.000000             5679.000000\n",
       "mean          487.698268           738.546757              330.404473\n",
       "std           548.021466           615.656010              432.231915\n",
       "min             0.000000             0.000000                0.000000\n",
       "25%            12.000000             0.000000               16.000000\n",
       "50%           248.000000           832.000000              179.000000\n",
       "75%           936.000000          1268.000000              393.000000\n",
       "max          2272.000000          2253.000000             2272.000000"
      ]
     },
     "execution_count": 52,
     "metadata": {},
     "output_type": "execute_result"
    }
   ],
   "source": [
    "#Get descriptive statistics on Total Time Spent on Website by Converted\n",
    "stats_TT = pd.DataFrame(\n",
    "    {'TotalTime_Overall':mql['Total Time Spent on Website'].describe(),\n",
    "    'TotalTime_Converted':mql[mql['Converted']==True]['Total Time Spent on Website'].describe(),\n",
    "    'TotalTime_NotConverted':mql[mql['Converted']==False]['Total Time Spent on Website'].describe()})\n",
    "stats_TT"
   ]
  },
  {
   "cell_type": "markdown",
   "metadata": {
    "papermill": {
     "duration": 0.135469,
     "end_time": "2022-01-14T01:26:39.970006",
     "exception": false,
     "start_time": "2022-01-14T01:26:39.834537",
     "status": "completed"
    },
    "tags": []
   },
   "source": [
    "**Observations**\n",
    "* On average, leads that convert appear to spent more than double the time that leads that do not convert on the website."
   ]
  },
  {
   "cell_type": "code",
   "execution_count": 53,
   "metadata": {
    "execution": {
     "iopub.execute_input": "2022-01-14T01:26:40.247147Z",
     "iopub.status.busy": "2022-01-14T01:26:40.245922Z",
     "iopub.status.idle": "2022-01-14T01:26:40.514649Z",
     "shell.execute_reply": "2022-01-14T01:26:40.513620Z",
     "shell.execute_reply.started": "2022-01-14T01:18:18.628377Z"
    },
    "papermill": {
     "duration": 0.412324,
     "end_time": "2022-01-14T01:26:40.514828",
     "exception": false,
     "start_time": "2022-01-14T01:26:40.102504",
     "status": "completed"
    },
    "tags": []
   },
   "outputs": [
    {
     "data": {
      "image/png": "[encoded data removed]",
      "text/plain": [
       "<Figure size 432x288 with 1 Axes>"
      ]
     },
     "metadata": {
      "needs_background": "light"
     },
     "output_type": "display_data"
    }
   ],
   "source": [
    "#Plot boxplots for distribution of Total Time Spent on Website by Converted\n",
    "sns.boxplot(y='Total Time Spent on Website', data=mql, x='Converted', hue='Converted')\n",
    "plt.title(\"Distribution of Total Time Spent on Website by Converted\")\n",
    "plt.show()"
   ]
  },
  {
   "cell_type": "markdown",
   "metadata": {
    "papermill": {
     "duration": 0.132934,
     "end_time": "2022-01-14T01:26:40.781331",
     "exception": false,
     "start_time": "2022-01-14T01:26:40.648397",
     "status": "completed"
    },
    "tags": []
   },
   "source": [
    "**Observations**\n",
    "* The IQR of Total Time Spent on Website for leads that convert is much higher than for leads that do not convert.\n",
    "* **It is possible that driving leads to spend more time on the website would increase the overall conversion rate.**"
   ]
  },
  {
   "cell_type": "markdown",
   "metadata": {
    "papermill": {
     "duration": 0.132309,
     "end_time": "2022-01-14T01:26:41.050509",
     "exception": false,
     "start_time": "2022-01-14T01:26:40.918200",
     "status": "completed"
    },
    "tags": []
   },
   "source": [
    "#### Univariate Analysis - Page Views Per Visit"
   ]
  },
  {
   "cell_type": "code",
   "execution_count": 54,
   "metadata": {
    "execution": {
     "iopub.execute_input": "2022-01-14T01:26:41.325970Z",
     "iopub.status.busy": "2022-01-14T01:26:41.324865Z",
     "iopub.status.idle": "2022-01-14T01:26:41.346019Z",
     "shell.execute_reply": "2022-01-14T01:26:41.345414Z",
     "shell.execute_reply.started": "2022-01-14T01:18:18.906886Z"
    },
    "papermill": {
     "duration": 0.162128,
     "end_time": "2022-01-14T01:26:41.346189",
     "exception": false,
     "start_time": "2022-01-14T01:26:41.184061",
     "status": "completed"
    },
    "tags": []
   },
   "outputs": [
    {
     "data": {
      "text/html": [
       "<div>\n",
       "<style scoped>\n",
       "    .dataframe tbody tr th:only-of-type {\n",
       "        vertical-align: middle;\n",
       "    }\n",
       "\n",
       "    .dataframe tbody tr th {\n",
       "        vertical-align: top;\n",
       "    }\n",
       "\n",
       "    .dataframe thead th {\n",
       "        text-align: right;\n",
       "    }\n",
       "</style>\n",
       "<table border=\"1\" class=\"dataframe\">\n",
       "  <thead>\n",
       "    <tr style=\"text-align: right;\">\n",
       "      <th></th>\n",
       "      <th>TotalTime_Overall</th>\n",
       "      <th>TotalTime_Converted</th>\n",
       "      <th>TotalTime_NotConverted</th>\n",
       "    </tr>\n",
       "  </thead>\n",
       "  <tbody>\n",
       "    <tr>\n",
       "      <th>count</th>\n",
       "      <td>9240.000000</td>\n",
       "      <td>3561.000000</td>\n",
       "      <td>5679.000000</td>\n",
       "    </tr>\n",
       "    <tr>\n",
       "      <th>mean</th>\n",
       "      <td>2.357440</td>\n",
       "      <td>2.343707</td>\n",
       "      <td>2.366052</td>\n",
       "    </tr>\n",
       "    <tr>\n",
       "      <th>std</th>\n",
       "      <td>2.145781</td>\n",
       "      <td>2.109825</td>\n",
       "      <td>2.168163</td>\n",
       "    </tr>\n",
       "    <tr>\n",
       "      <th>min</th>\n",
       "      <td>0.000000</td>\n",
       "      <td>0.000000</td>\n",
       "      <td>0.000000</td>\n",
       "    </tr>\n",
       "    <tr>\n",
       "      <th>25%</th>\n",
       "      <td>1.000000</td>\n",
       "      <td>0.000000</td>\n",
       "      <td>1.000000</td>\n",
       "    </tr>\n",
       "    <tr>\n",
       "      <th>50%</th>\n",
       "      <td>2.000000</td>\n",
       "      <td>2.000000</td>\n",
       "      <td>2.000000</td>\n",
       "    </tr>\n",
       "    <tr>\n",
       "      <th>75%</th>\n",
       "      <td>3.000000</td>\n",
       "      <td>3.330000</td>\n",
       "      <td>3.000000</td>\n",
       "    </tr>\n",
       "    <tr>\n",
       "      <th>max</th>\n",
       "      <td>55.000000</td>\n",
       "      <td>24.000000</td>\n",
       "      <td>55.000000</td>\n",
       "    </tr>\n",
       "  </tbody>\n",
       "</table>\n",
       "</div>"
      ],
      "text/plain": [
       "       TotalTime_Overall  TotalTime_Converted  TotalTime_NotConverted\n",
       "count        9240.000000          3561.000000             5679.000000\n",
       "mean            2.357440             2.343707                2.366052\n",
       "std             2.145781             2.109825                2.168163\n",
       "min             0.000000             0.000000                0.000000\n",
       "25%             1.000000             0.000000                1.000000\n",
       "50%             2.000000             2.000000                2.000000\n",
       "75%             3.000000             3.330000                3.000000\n",
       "max            55.000000            24.000000               55.000000"
      ]
     },
     "execution_count": 54,
     "metadata": {},
     "output_type": "execute_result"
    }
   ],
   "source": [
    "#Get descriptive statistics for Page Views Per Visit by Converted\n",
    "stats_PV = pd.DataFrame(\n",
    "    {'TotalTime_Overall':mql['Page Views Per Visit'].describe(),\n",
    "    'TotalTime_Converted':mql[mql['Converted']==True]['Page Views Per Visit'].describe(),\n",
    "    'TotalTime_NotConverted':mql[mql['Converted']==False]['Page Views Per Visit'].describe()})\n",
    "stats_PV"
   ]
  },
  {
   "cell_type": "code",
   "execution_count": 55,
   "metadata": {
    "execution": {
     "iopub.execute_input": "2022-01-14T01:26:41.627172Z",
     "iopub.status.busy": "2022-01-14T01:26:41.625955Z",
     "iopub.status.idle": "2022-01-14T01:26:41.872890Z",
     "shell.execute_reply": "2022-01-14T01:26:41.873768Z",
     "shell.execute_reply.started": "2022-01-14T01:18:18.935233Z"
    },
    "papermill": {
     "duration": 0.390736,
     "end_time": "2022-01-14T01:26:41.873958",
     "exception": false,
     "start_time": "2022-01-14T01:26:41.483222",
     "status": "completed"
    },
    "tags": []
   },
   "outputs": [
    {
     "data": {
      "image/png": "[encoded data removed]",
      "text/plain": [
       "<Figure size 432x288 with 1 Axes>"
      ]
     },
     "metadata": {
      "needs_background": "light"
     },
     "output_type": "display_data"
    }
   ],
   "source": [
    "#Plot boxplots for distribution of Page Views Per Visit by Converted\n",
    "sns.boxplot(y='Page Views Per Visit', data=mql, x='Converted', hue='Converted')\n",
    "plt.title(\"Distribution of Page Views Per Visit by Converted\")\n",
    "plt.show()"
   ]
  },
  {
   "cell_type": "markdown",
   "metadata": {
    "papermill": {
     "duration": 0.13583,
     "end_time": "2022-01-14T01:26:42.146456",
     "exception": false,
     "start_time": "2022-01-14T01:26:42.010626",
     "status": "completed"
    },
    "tags": []
   },
   "source": [
    "**Observations** \n",
    "* Regardless of conversion status, all leads appear to view a comparable amount of pages every visit on average. The IQR of Page Views each Visit for leads that convert, however, is higher in part because many of these leads have an average of 0 page views each visit. The outlier who, on average, visited 55 pages per visit might not be a lead at all but rather a competitor or a member of staff who is browsing the website."
   ]
  },
  {
   "cell_type": "markdown",
   "metadata": {
    "papermill": {
     "duration": 0.134215,
     "end_time": "2022-01-14T01:26:42.419466",
     "exception": false,
     "start_time": "2022-01-14T01:26:42.285251",
     "status": "completed"
    },
    "tags": []
   },
   "source": [
    "#### Univariate Analysis - Last Activity"
   ]
  },
  {
   "cell_type": "code",
   "execution_count": 56,
   "metadata": {
    "execution": {
     "iopub.execute_input": "2022-01-14T01:26:42.694640Z",
     "iopub.status.busy": "2022-01-14T01:26:42.693545Z",
     "iopub.status.idle": "2022-01-14T01:26:43.172471Z",
     "shell.execute_reply": "2022-01-14T01:26:43.171469Z",
     "shell.execute_reply.started": "2022-01-14T01:18:19.534264Z"
    },
    "papermill": {
     "duration": 0.619123,
     "end_time": "2022-01-14T01:26:43.172690",
     "exception": false,
     "start_time": "2022-01-14T01:26:42.553567",
     "status": "completed"
    },
    "tags": []
   },
   "outputs": [
    {
     "data": {
      "image/png": "[encoded data removed]",
      "text/plain": [
       "<Figure size 432x576 with 1 Axes>"
      ]
     },
     "metadata": {
      "needs_background": "light"
     },
     "output_type": "display_data"
    }
   ],
   "source": [
    "#Plot distribution of Last Activity by Converted\n",
    "plt.figure(figsize=(6,8))\n",
    "count_by_converted('Last Activity')"
   ]
  },
  {
   "cell_type": "markdown",
   "metadata": {
    "papermill": {
     "duration": 0.135228,
     "end_time": "2022-01-14T01:26:43.447845",
     "exception": false,
     "start_time": "2022-01-14T01:26:43.312617",
     "status": "completed"
    },
    "tags": []
   },
   "source": [
    "**Observations** \n",
    "* SMS Sent is by far the last activity with the highest conversion rate; further research is necessary to ascertain if this is due to the activity's effectiveness or merely the stage in the lead nurturing process at which it occurs.\n"
   ]
  },
  {
   "cell_type": "markdown",
   "metadata": {
    "papermill": {
     "duration": 0.13547,
     "end_time": "2022-01-14T01:26:43.718970",
     "exception": false,
     "start_time": "2022-01-14T01:26:43.583500",
     "status": "completed"
    },
    "tags": []
   },
   "source": [
    "#### Univariate Analysis - Search"
   ]
  },
  {
   "cell_type": "code",
   "execution_count": 57,
   "metadata": {
    "execution": {
     "iopub.execute_input": "2022-01-14T01:26:43.996420Z",
     "iopub.status.busy": "2022-01-14T01:26:43.995722Z",
     "iopub.status.idle": "2022-01-14T01:26:44.246233Z",
     "shell.execute_reply": "2022-01-14T01:26:44.245638Z",
     "shell.execute_reply.started": "2022-01-14T01:18:20.026000Z"
    },
    "papermill": {
     "duration": 0.389813,
     "end_time": "2022-01-14T01:26:44.246395",
     "exception": false,
     "start_time": "2022-01-14T01:26:43.856582",
     "status": "completed"
    },
    "tags": []
   },
   "outputs": [
    {
     "data": {
      "image/png": "[encoded data removed]",
      "text/plain": [
       "<Figure size 432x288 with 2 Axes>"
      ]
     },
     "metadata": {
      "needs_background": "light"
     },
     "output_type": "display_data"
    }
   ],
   "source": [
    "#Plot distribution of Search by Converted\n",
    "confusionmatrix_by_converted('Search')"
   ]
  },
  {
   "cell_type": "markdown",
   "metadata": {
    "papermill": {
     "duration": 0.136699,
     "end_time": "2022-01-14T01:26:44.519870",
     "exception": false,
     "start_time": "2022-01-14T01:26:44.383171",
     "status": "completed"
    },
    "tags": []
   },
   "source": [
    "**Observations**\n",
    "* Very few leads have seen an ad during a web search"
   ]
  },
  {
   "cell_type": "markdown",
   "metadata": {
    "papermill": {
     "duration": 0.136301,
     "end_time": "2022-01-14T01:26:44.793127",
     "exception": false,
     "start_time": "2022-01-14T01:26:44.656826",
     "status": "completed"
    },
    "tags": []
   },
   "source": [
    "#### Univariate Analysis - Magazine"
   ]
  },
  {
   "cell_type": "code",
   "execution_count": 58,
   "metadata": {
    "execution": {
     "iopub.execute_input": "2022-01-14T01:26:45.075511Z",
     "iopub.status.busy": "2022-01-14T01:26:45.074463Z",
     "iopub.status.idle": "2022-01-14T01:26:45.327839Z",
     "shell.execute_reply": "2022-01-14T01:26:45.328402Z",
     "shell.execute_reply.started": "2022-01-14T01:18:20.279807Z"
    },
    "papermill": {
     "duration": 0.395949,
     "end_time": "2022-01-14T01:26:45.328585",
     "exception": false,
     "start_time": "2022-01-14T01:26:44.932636",
     "status": "completed"
    },
    "tags": []
   },
   "outputs": [
    {
     "data": {
      "image/png": "[encoded data removed]",
      "text/plain": [
       "<Figure size 432x288 with 2 Axes>"
      ]
     },
     "metadata": {
      "needs_background": "light"
     },
     "output_type": "display_data"
    }
   ],
   "source": [
    "#Plot distribution of Magazine by Converted\n",
    "confusionmatrix_by_converted('Magazine')"
   ]
  },
  {
   "cell_type": "markdown",
   "metadata": {
    "papermill": {
     "duration": 0.142008,
     "end_time": "2022-01-14T01:26:45.608159",
     "exception": false,
     "start_time": "2022-01-14T01:26:45.466151",
     "status": "completed"
    },
    "tags": []
   },
   "source": [
    "**Observations**\n",
    "* No leads saw an ad in a magazine.\n",
    "* **X Education may want to reconsider investing in this marketing channel.**"
   ]
  },
  {
   "cell_type": "markdown",
   "metadata": {
    "papermill": {
     "duration": 0.140149,
     "end_time": "2022-01-14T01:26:45.886693",
     "exception": false,
     "start_time": "2022-01-14T01:26:45.746544",
     "status": "completed"
    },
    "tags": []
   },
   "source": [
    "#### Univariate Analysis - Newspaper Article"
   ]
  },
  {
   "cell_type": "code",
   "execution_count": 59,
   "metadata": {
    "execution": {
     "iopub.execute_input": "2022-01-14T01:26:46.167141Z",
     "iopub.status.busy": "2022-01-14T01:26:46.166400Z",
     "iopub.status.idle": "2022-01-14T01:26:46.430842Z",
     "shell.execute_reply": "2022-01-14T01:26:46.431500Z",
     "shell.execute_reply.started": "2022-01-14T01:18:20.537293Z"
    },
    "papermill": {
     "duration": 0.405496,
     "end_time": "2022-01-14T01:26:46.431683",
     "exception": false,
     "start_time": "2022-01-14T01:26:46.026187",
     "status": "completed"
    },
    "tags": []
   },
   "outputs": [
    {
     "data": {
      "image/png": "[encoded data removed]",
      "text/plain": [
       "<Figure size 432x288 with 2 Axes>"
      ]
     },
     "metadata": {
      "needs_background": "light"
     },
     "output_type": "display_data"
    }
   ],
   "source": [
    "#Plot distribution of Newspaper Article by Converted\n",
    "confusionmatrix_by_converted('Newspaper Article')"
   ]
  },
  {
   "cell_type": "markdown",
   "metadata": {
    "papermill": {
     "duration": 0.138059,
     "end_time": "2022-01-14T01:26:46.708043",
     "exception": false,
     "start_time": "2022-01-14T01:26:46.569984",
     "status": "completed"
    },
    "tags": []
   },
   "source": [
    "**Observations**\n",
    "* Very few leads saw an ad in a newspaper article.\n",
    "* **X Education may want to reconsider investing in this marketing channel as well.**"
   ]
  },
  {
   "cell_type": "markdown",
   "metadata": {
    "papermill": {
     "duration": 0.139929,
     "end_time": "2022-01-14T01:26:46.988010",
     "exception": false,
     "start_time": "2022-01-14T01:26:46.848081",
     "status": "completed"
    },
    "tags": []
   },
   "source": [
    "#### Univariate Analysis - X Education Forums"
   ]
  },
  {
   "cell_type": "code",
   "execution_count": 60,
   "metadata": {
    "execution": {
     "iopub.execute_input": "2022-01-14T01:26:47.270437Z",
     "iopub.status.busy": "2022-01-14T01:26:47.269654Z",
     "iopub.status.idle": "2022-01-14T01:26:47.527818Z",
     "shell.execute_reply": "2022-01-14T01:26:47.528423Z",
     "shell.execute_reply.started": "2022-01-14T01:18:20.792654Z"
    },
    "papermill": {
     "duration": 0.400191,
     "end_time": "2022-01-14T01:26:47.528611",
     "exception": false,
     "start_time": "2022-01-14T01:26:47.128420",
     "status": "completed"
    },
    "tags": []
   },
   "outputs": [
    {
     "data": {
      "image/png": "[encoded data removed]",
      "text/plain": [
       "<Figure size 432x288 with 2 Axes>"
      ]
     },
     "metadata": {
      "needs_background": "light"
     },
     "output_type": "display_data"
    }
   ],
   "source": [
    "#Plot distribution of X Education Forums by Converted\n",
    "confusionmatrix_by_converted('X Education Forums')"
   ]
  },
  {
   "cell_type": "markdown",
   "metadata": {
    "papermill": {
     "duration": 0.139831,
     "end_time": "2022-01-14T01:26:47.807531",
     "exception": false,
     "start_time": "2022-01-14T01:26:47.667700",
     "status": "completed"
    },
    "tags": []
   },
   "source": [
    "**Observations**\n",
    "* Very few leads saw an ad in an X Education Forum."
   ]
  },
  {
   "cell_type": "markdown",
   "metadata": {
    "papermill": {
     "duration": 0.141029,
     "end_time": "2022-01-14T01:26:48.089749",
     "exception": false,
     "start_time": "2022-01-14T01:26:47.948720",
     "status": "completed"
    },
    "tags": []
   },
   "source": [
    "#### Univariate Analysis - Newspaper"
   ]
  },
  {
   "cell_type": "code",
   "execution_count": 61,
   "metadata": {
    "execution": {
     "iopub.execute_input": "2022-01-14T01:26:48.377285Z",
     "iopub.status.busy": "2022-01-14T01:26:48.376548Z",
     "iopub.status.idle": "2022-01-14T01:26:48.630292Z",
     "shell.execute_reply": "2022-01-14T01:26:48.630886Z",
     "shell.execute_reply.started": "2022-01-14T01:18:21.051234Z"
    },
    "papermill": {
     "duration": 0.399757,
     "end_time": "2022-01-14T01:26:48.631073",
     "exception": false,
     "start_time": "2022-01-14T01:26:48.231316",
     "status": "completed"
    },
    "tags": []
   },
   "outputs": [
    {
     "data": {
      "image/png": "[encoded data removed]",
      "text/plain": [
       "<Figure size 432x288 with 2 Axes>"
      ]
     },
     "metadata": {
      "needs_background": "light"
     },
     "output_type": "display_data"
    }
   ],
   "source": [
    "#Plot distribution of Newspaper by Converted\n",
    "confusionmatrix_by_converted('Newspaper')"
   ]
  },
  {
   "cell_type": "markdown",
   "metadata": {
    "papermill": {
     "duration": 0.143569,
     "end_time": "2022-01-14T01:26:48.916780",
     "exception": false,
     "start_time": "2022-01-14T01:26:48.773211",
     "status": "completed"
    },
    "tags": []
   },
   "source": [
    "**Observations**\n",
    "* Very few leads saw an ad in a newspaper.\n",
    "* **X Education may want to reconsider investing in this marketing channel as well.**"
   ]
  },
  {
   "cell_type": "markdown",
   "metadata": {
    "papermill": {
     "duration": 0.142191,
     "end_time": "2022-01-14T01:26:49.202076",
     "exception": false,
     "start_time": "2022-01-14T01:26:49.059885",
     "status": "completed"
    },
    "tags": []
   },
   "source": [
    "#### Univariate Analysis - Digital Advertisement"
   ]
  },
  {
   "cell_type": "code",
   "execution_count": 62,
   "metadata": {
    "execution": {
     "iopub.execute_input": "2022-01-14T01:26:49.515611Z",
     "iopub.status.busy": "2022-01-14T01:26:49.514903Z",
     "iopub.status.idle": "2022-01-14T01:26:49.973212Z",
     "shell.execute_reply": "2022-01-14T01:26:49.973701Z",
     "shell.execute_reply.started": "2022-01-14T01:18:21.312371Z"
    },
    "papermill": {
     "duration": 0.604366,
     "end_time": "2022-01-14T01:26:49.973893",
     "exception": false,
     "start_time": "2022-01-14T01:26:49.369527",
     "status": "completed"
    },
    "tags": []
   },
   "outputs": [
    {
     "data": {
      "image/png": "[encoded data removed]",
      "text/plain": [
       "<Figure size 432x288 with 2 Axes>"
      ]
     },
     "metadata": {
      "needs_background": "light"
     },
     "output_type": "display_data"
    }
   ],
   "source": [
    "#Plot distribution of Digital Advertisement by Converted\n",
    "confusionmatrix_by_converted('Digital Advertisement')"
   ]
  },
  {
   "cell_type": "markdown",
   "metadata": {
    "papermill": {
     "duration": 0.143304,
     "end_time": "2022-01-14T01:26:50.259626",
     "exception": false,
     "start_time": "2022-01-14T01:26:50.116322",
     "status": "completed"
    },
    "tags": []
   },
   "source": [
    "**Observations**\n",
    "* Very few leads saw an ad in a Digital Advertisement."
   ]
  },
  {
   "cell_type": "markdown",
   "metadata": {
    "papermill": {
     "duration": 0.143084,
     "end_time": "2022-01-14T01:26:50.547775",
     "exception": false,
     "start_time": "2022-01-14T01:26:50.404691",
     "status": "completed"
    },
    "tags": []
   },
   "source": [
    "#### Univariate Analysis - Through Recommendations"
   ]
  },
  {
   "cell_type": "code",
   "execution_count": 63,
   "metadata": {
    "execution": {
     "iopub.execute_input": "2022-01-14T01:26:50.839434Z",
     "iopub.status.busy": "2022-01-14T01:26:50.837822Z",
     "iopub.status.idle": "2022-01-14T01:26:51.095832Z",
     "shell.execute_reply": "2022-01-14T01:26:51.096744Z",
     "shell.execute_reply.started": "2022-01-14T01:18:21.569594Z"
    },
    "papermill": {
     "duration": 0.404082,
     "end_time": "2022-01-14T01:26:51.096941",
     "exception": false,
     "start_time": "2022-01-14T01:26:50.692859",
     "status": "completed"
    },
    "tags": []
   },
   "outputs": [
    {
     "data": {
      "image/png": "[encoded data removed]",
      "text/plain": [
       "<Figure size 432x288 with 2 Axes>"
      ]
     },
     "metadata": {
      "needs_background": "light"
     },
     "output_type": "display_data"
    }
   ],
   "source": [
    "#Plot distribution of Through Recommendations by Converted\n",
    "confusionmatrix_by_converted('Through Recommendations')"
   ]
  },
  {
   "cell_type": "markdown",
   "metadata": {
    "papermill": {
     "duration": 0.142704,
     "end_time": "2022-01-14T01:26:51.382812",
     "exception": false,
     "start_time": "2022-01-14T01:26:51.240108",
     "status": "completed"
    },
    "tags": []
   },
   "source": [
    "**Observations** * \n",
    "There aren't many leads that seem to have come from recommendations. This is odd because \"Reference\" is listed as a Lead Source on more than 500 leads. Are referral and recommendation distinct terms? In what way, if so?"
   ]
  },
  {
   "cell_type": "markdown",
   "metadata": {
    "papermill": {
     "duration": 0.142963,
     "end_time": "2022-01-14T01:26:51.668169",
     "exception": false,
     "start_time": "2022-01-14T01:26:51.525206",
     "status": "completed"
    },
    "tags": []
   },
   "source": [
    "#### Univariate Analysis - Receive More Updates About Our Courses"
   ]
  },
  {
   "cell_type": "code",
   "execution_count": 64,
   "metadata": {
    "execution": {
     "iopub.execute_input": "2022-01-14T01:26:51.958692Z",
     "iopub.status.busy": "2022-01-14T01:26:51.956983Z",
     "iopub.status.idle": "2022-01-14T01:26:52.225796Z",
     "shell.execute_reply": "2022-01-14T01:26:52.226295Z",
     "shell.execute_reply.started": "2022-01-14T01:18:21.834091Z"
    },
    "papermill": {
     "duration": 0.416282,
     "end_time": "2022-01-14T01:26:52.226502",
     "exception": false,
     "start_time": "2022-01-14T01:26:51.810220",
     "status": "completed"
    },
    "tags": []
   },
   "outputs": [
    {
     "data": {
      "image/png": "[encoded data removed]",
      "text/plain": [
       "<Figure size 432x288 with 2 Axes>"
      ]
     },
     "metadata": {
      "needs_background": "light"
     },
     "output_type": "display_data"
    }
   ],
   "source": [
    "#Plot distribution of Receive More Updates About Our Courses by Converted\n",
    "confusionmatrix_by_converted('Receive More Updates About Our Courses')"
   ]
  },
  {
   "cell_type": "markdown",
   "metadata": {
    "papermill": {
     "duration": 0.143787,
     "end_time": "2022-01-14T01:26:52.516985",
     "exception": false,
     "start_time": "2022-01-14T01:26:52.373198",
     "status": "completed"
    },
    "tags": []
   },
   "source": [
    "**Observations**\n",
    "* Not a single lead indicated that they wanted to receive more updates on X Education courses. \n",
    "* If this is not a data error, it should be a point of concern for the organization."
   ]
  },
  {
   "cell_type": "markdown",
   "metadata": {
    "papermill": {
     "duration": 0.145598,
     "end_time": "2022-01-14T01:26:52.807290",
     "exception": false,
     "start_time": "2022-01-14T01:26:52.661692",
     "status": "completed"
    },
    "tags": []
   },
   "source": [
    "#### Univariate Analysis - Update me on Supply Chain Content"
   ]
  },
  {
   "cell_type": "code",
   "execution_count": 65,
   "metadata": {
    "execution": {
     "iopub.execute_input": "2022-01-14T01:26:53.100295Z",
     "iopub.status.busy": "2022-01-14T01:26:53.099417Z",
     "iopub.status.idle": "2022-01-14T01:26:53.365158Z",
     "shell.execute_reply": "2022-01-14T01:26:53.364508Z",
     "shell.execute_reply.started": "2022-01-14T01:18:22.125533Z"
    },
    "papermill": {
     "duration": 0.412302,
     "end_time": "2022-01-14T01:26:53.365313",
     "exception": false,
     "start_time": "2022-01-14T01:26:52.953011",
     "status": "completed"
    },
    "tags": []
   },
   "outputs": [
    {
     "data": {
      "image/png": "[encoded data removed]",
      "text/plain": [
       "<Figure size 432x288 with 2 Axes>"
      ]
     },
     "metadata": {
      "needs_background": "light"
     },
     "output_type": "display_data"
    }
   ],
   "source": [
    "#Plot distribution of Update me on Supply Chain Content by Converted\n",
    "confusionmatrix_by_converted('Update me on Supply Chain Content')"
   ]
  },
  {
   "cell_type": "markdown",
   "metadata": {
    "papermill": {
     "duration": 0.147008,
     "end_time": "2022-01-14T01:26:53.660662",
     "exception": false,
     "start_time": "2022-01-14T01:26:53.513654",
     "status": "completed"
    },
    "tags": []
   },
   "source": [
    "**Observations**\n",
    "* Not a single lead indicated that they wanted to receive updates on supply chain content.\n",
    "* Sending out this kind of content to leads is evidently not of interest to them."
   ]
  },
  {
   "cell_type": "markdown",
   "metadata": {
    "papermill": {
     "duration": 0.148987,
     "end_time": "2022-01-14T01:26:53.956444",
     "exception": false,
     "start_time": "2022-01-14T01:26:53.807457",
     "status": "completed"
    },
    "tags": []
   },
   "source": [
    "#### Univariate Analysis - Get updates on DM Content"
   ]
  },
  {
   "cell_type": "code",
   "execution_count": 66,
   "metadata": {
    "execution": {
     "iopub.execute_input": "2022-01-14T01:26:54.256718Z",
     "iopub.status.busy": "2022-01-14T01:26:54.255125Z",
     "iopub.status.idle": "2022-01-14T01:26:54.515878Z",
     "shell.execute_reply": "2022-01-14T01:26:54.515185Z",
     "shell.execute_reply.started": "2022-01-14T01:18:22.395964Z"
    },
    "papermill": {
     "duration": 0.411245,
     "end_time": "2022-01-14T01:26:54.516028",
     "exception": false,
     "start_time": "2022-01-14T01:26:54.104783",
     "status": "completed"
    },
    "tags": []
   },
   "outputs": [
    {
     "data": {
      "image/png": "[encoded data removed]",
      "text/plain": [
       "<Figure size 432x288 with 2 Axes>"
      ]
     },
     "metadata": {
      "needs_background": "light"
     },
     "output_type": "display_data"
    }
   ],
   "source": [
    "#Plot distribution of Get updates on DM Content by Converted\n",
    "confusionmatrix_by_converted('Get updates on DM Content')"
   ]
  },
  {
   "cell_type": "markdown",
   "metadata": {
    "papermill": {
     "duration": 0.145319,
     "end_time": "2022-01-14T01:26:54.807228",
     "exception": false,
     "start_time": "2022-01-14T01:26:54.661909",
     "status": "completed"
    },
    "tags": []
   },
   "source": [
    "**Observations**\n",
    "* Not a single lead indicated that they wanted to receive updates on DM content.\n",
    "* Sending out this kind of content to leads is evidently not of interest to them."
   ]
  },
  {
   "cell_type": "markdown",
   "metadata": {
    "papermill": {
     "duration": 0.145586,
     "end_time": "2022-01-14T01:26:55.099922",
     "exception": false,
     "start_time": "2022-01-14T01:26:54.954336",
     "status": "completed"
    },
    "tags": []
   },
   "source": [
    "#### Univariate Analysis - I agree to pay the amount through cheque"
   ]
  },
  {
   "cell_type": "code",
   "execution_count": 67,
   "metadata": {
    "execution": {
     "iopub.execute_input": "2022-01-14T01:26:55.404907Z",
     "iopub.status.busy": "2022-01-14T01:26:55.404175Z",
     "iopub.status.idle": "2022-01-14T01:26:55.664476Z",
     "shell.execute_reply": "2022-01-14T01:26:55.664948Z",
     "shell.execute_reply.started": "2022-01-14T01:18:22.660268Z"
    },
    "papermill": {
     "duration": 0.420127,
     "end_time": "2022-01-14T01:26:55.665169",
     "exception": false,
     "start_time": "2022-01-14T01:26:55.245042",
     "status": "completed"
    },
    "tags": []
   },
   "outputs": [
    {
     "data": {
      "image/png": "[encoded data removed]",
      "text/plain": [
       "<Figure size 432x288 with 2 Axes>"
      ]
     },
     "metadata": {
      "needs_background": "light"
     },
     "output_type": "display_data"
    }
   ],
   "source": [
    "#Plot distribution of I agree to pay the amount through cheque by Converted\n",
    "confusionmatrix_by_converted('I agree to pay the amount through cheque')"
   ]
  },
  {
   "cell_type": "markdown",
   "metadata": {
    "papermill": {
     "duration": 0.148218,
     "end_time": "2022-01-14T01:26:55.963827",
     "exception": false,
     "start_time": "2022-01-14T01:26:55.815609",
     "status": "completed"
    },
    "tags": []
   },
   "source": [
    "**Observations**\n",
    "* Not a single lead indicated that they wanted to pay by cheque.\n",
    "* This payment method is evidently not of interest to leads."
   ]
  },
  {
   "cell_type": "markdown",
   "metadata": {
    "papermill": {
     "duration": 0.146109,
     "end_time": "2022-01-14T01:26:56.257821",
     "exception": false,
     "start_time": "2022-01-14T01:26:56.111712",
     "status": "completed"
    },
    "tags": []
   },
   "source": [
    "#### Univariate Analysis - A free copy of Mastering The Interview"
   ]
  },
  {
   "cell_type": "code",
   "execution_count": 68,
   "metadata": {
    "execution": {
     "iopub.execute_input": "2022-01-14T01:26:56.554740Z",
     "iopub.status.busy": "2022-01-14T01:26:56.553988Z",
     "iopub.status.idle": "2022-01-14T01:26:56.824358Z",
     "shell.execute_reply": "2022-01-14T01:26:56.823805Z",
     "shell.execute_reply.started": "2022-01-14T01:18:22.925333Z"
    },
    "papermill": {
     "duration": 0.420626,
     "end_time": "2022-01-14T01:26:56.824519",
     "exception": false,
     "start_time": "2022-01-14T01:26:56.403893",
     "status": "completed"
    },
    "tags": []
   },
   "outputs": [
    {
     "data": {
      "image/png": "[encoded data removed]",
      "text/plain": [
       "<Figure size 432x288 with 2 Axes>"
      ]
     },
     "metadata": {
      "needs_background": "light"
     },
     "output_type": "display_data"
    }
   ],
   "source": [
    "#Plot distribution of A free copy of Mastering The Interview by Converted\n",
    "confusionmatrix_by_converted('A free copy of Mastering The Interview')"
   ]
  },
  {
   "cell_type": "code",
   "execution_count": 69,
   "metadata": {
    "execution": {
     "iopub.execute_input": "2022-01-14T01:26:57.127568Z",
     "iopub.status.busy": "2022-01-14T01:26:57.126854Z",
     "iopub.status.idle": "2022-01-14T01:26:57.137014Z",
     "shell.execute_reply": "2022-01-14T01:26:57.138124Z",
     "shell.execute_reply.started": "2022-01-14T01:18:23.190333Z"
    },
    "papermill": {
     "duration": 0.164721,
     "end_time": "2022-01-14T01:26:57.138417",
     "exception": false,
     "start_time": "2022-01-14T01:26:56.973696",
     "status": "completed"
    },
    "tags": []
   },
   "outputs": [
    {
     "name": "stdout",
     "output_type": "stream",
     "text": [
      "The overall lead conversion rate is  0.3853896103896104\n",
      "The lead conversion rate among those who received a free copy of Mastering The Interview is  0.35664819944598336\n",
      "The lead conversion rate among those who DID NOT receive a free copy of Mastering The Interview is  0.3984571788413098\n"
     ]
    }
   ],
   "source": [
    "#Compute conversion rate among leads who did and didn't want to receive a free copy of Mastering The Interview\n",
    "print('The overall lead conversion rate is ', mql['Converted'].mean())\n",
    "print('The lead conversion rate among those who received a free copy of Mastering The Interview is ',mql[mql['A free copy of Mastering The Interview']==True]['Converted'].mean())\n",
    "print('The lead conversion rate among those who DID NOT receive a free copy of Mastering The Interview is ',mql[mql['A free copy of Mastering The Interview']==False]['Converted'].mean())"
   ]
  },
  {
   "cell_type": "markdown",
   "metadata": {
    "papermill": {
     "duration": 0.19591,
     "end_time": "2022-01-14T01:26:57.483187",
     "exception": false,
     "start_time": "2022-01-14T01:26:57.287277",
     "status": "completed"
    },
    "tags": []
   },
   "source": [
    "**Observations**\n",
    "* Nearly 1/3 leads wanted to receive a free copy of Mastering The Interview\n",
    "* Interestingly, leads who received a free copy of Mastering The Interview had a lower conversion rate!\n",
    "* **Could this be because once leads receive a copy for Mastering The Interview, they don't feel the need for X Education's courses?**"
   ]
  },
  {
   "cell_type": "markdown",
   "metadata": {
    "papermill": {
     "duration": 0.14993,
     "end_time": "2022-01-14T01:26:57.781122",
     "exception": false,
     "start_time": "2022-01-14T01:26:57.631192",
     "status": "completed"
    },
    "tags": []
   },
   "source": [
    "#### Univariate Analysis - Last Notable Activity"
   ]
  },
  {
   "cell_type": "code",
   "execution_count": 70,
   "metadata": {
    "execution": {
     "iopub.execute_input": "2022-01-14T01:26:58.088313Z",
     "iopub.status.busy": "2022-01-14T01:26:58.087515Z",
     "iopub.status.idle": "2022-01-14T01:26:58.537497Z",
     "shell.execute_reply": "2022-01-14T01:26:58.536862Z",
     "shell.execute_reply.started": "2022-01-14T01:18:23.207763Z"
    },
    "papermill": {
     "duration": 0.607562,
     "end_time": "2022-01-14T01:26:58.537646",
     "exception": false,
     "start_time": "2022-01-14T01:26:57.930084",
     "status": "completed"
    },
    "tags": []
   },
   "outputs": [
    {
     "data": {
      "image/png": "[encoded data removed]",
      "text/plain": [
       "<Figure size 576x432 with 1 Axes>"
      ]
     },
     "metadata": {
      "needs_background": "light"
     },
     "output_type": "display_data"
    }
   ],
   "source": [
    "#Plot distribution of Last Notable Activity by Converted\n",
    "plt.figure(figsize=(8,6))\n",
    "count_by_converted('Last Notable Activity')"
   ]
  },
  {
   "cell_type": "markdown",
   "metadata": {
    "papermill": {
     "duration": 0.147915,
     "end_time": "2022-01-14T01:26:58.834314",
     "exception": false,
     "start_time": "2022-01-14T01:26:58.686399",
     "status": "completed"
    },
    "tags": []
   },
   "source": [
    "**Observations**\n",
    "\n",
    "* As seen under Last Activity, SMS Sent is the Last Notable Activity with the highest conversion rate."
   ]
  },
  {
   "cell_type": "markdown",
   "metadata": {
    "papermill": {
     "duration": 0.147559,
     "end_time": "2022-01-14T01:26:59.131393",
     "exception": false,
     "start_time": "2022-01-14T01:26:58.983834",
     "status": "completed"
    },
    "tags": []
   },
   "source": [
    "# Model Development"
   ]
  },
  {
   "cell_type": "markdown",
   "metadata": {
    "papermill": {
     "duration": 0.147889,
     "end_time": "2022-01-14T01:26:59.428957",
     "exception": false,
     "start_time": "2022-01-14T01:26:59.281068",
     "status": "completed"
    },
    "tags": []
   },
   "source": [
    "#### Data Division\n",
    "\n",
    "\n",
    "We identify the target variable and all other dataset attributes, excluding Lead Number. Coding of categorical variables via One-Hot Encoding.\n",
    "\n",
    "Then, we divide our data into a training set and a testing set, using 70% of the data for the training set and 30% for the test set, respectively. \n"
   ]
  },
  {
   "cell_type": "code",
   "execution_count": 71,
   "metadata": {
    "execution": {
     "iopub.execute_input": "2022-01-14T01:26:59.733406Z",
     "iopub.status.busy": "2022-01-14T01:26:59.732227Z",
     "iopub.status.idle": "2022-01-14T01:26:59.766315Z",
     "shell.execute_reply": "2022-01-14T01:26:59.766854Z",
     "shell.execute_reply.started": "2022-01-14T01:18:23.668488Z"
    },
    "papermill": {
     "duration": 0.189663,
     "end_time": "2022-01-14T01:26:59.767039",
     "exception": false,
     "start_time": "2022-01-14T01:26:59.577376",
     "status": "completed"
    },
    "tags": []
   },
   "outputs": [],
   "source": [
    "#Split data into training and testing set\n",
    "drop_cols = ['Lead Number','Converted']\n",
    "X = pd.get_dummies(mql.drop(columns=drop_cols, axis=1))\n",
    "y = mql['Converted']\n",
    "\n",
    "X_train, X_test, y_train, y_test = train_test_split(X, y, test_size=0.3, random_state=123, stratify=y)"
   ]
  },
  {
   "cell_type": "markdown",
   "metadata": {
    "papermill": {
     "duration": 0.152229,
     "end_time": "2022-01-14T01:27:00.070348",
     "exception": false,
     "start_time": "2022-01-14T01:26:59.918119",
     "status": "completed"
    },
    "tags": []
   },
   "source": [
    "#### Feature Scaling\n",
    "\n",
    "Most classification models perform better after feature scaling. This is because numeric predictors often have different centers and ranges. For this dataset, numeric predictors include the following:\n",
    "\n",
    "* TotalVisits\n",
    "* Total Time Spent on Website\n",
    "* Page Views per Visit\n",
    "\n",
    "Since none of these features follow a normal distribution, standardization using MinMaxScaler is the prefered feature scaling method."
   ]
  },
  {
   "cell_type": "code",
   "execution_count": 72,
   "metadata": {
    "execution": {
     "iopub.execute_input": "2022-01-14T01:27:00.414784Z",
     "iopub.status.busy": "2022-01-14T01:27:00.413661Z",
     "iopub.status.idle": "2022-01-14T01:27:00.430547Z",
     "shell.execute_reply": "2022-01-14T01:27:00.431323Z",
     "shell.execute_reply.started": "2022-01-14T01:18:23.706390Z"
    },
    "papermill": {
     "duration": 0.212295,
     "end_time": "2022-01-14T01:27:00.431576",
     "exception": false,
     "start_time": "2022-01-14T01:27:00.219281",
     "status": "completed"
    },
    "tags": []
   },
   "outputs": [
    {
     "name": "stderr",
     "output_type": "stream",
     "text": [
      "/opt/conda/lib/python3.7/site-packages/pandas/core/frame.py:3673: SettingWithCopyWarning: \n",
      "A value is trying to be set on a copy of a slice from a DataFrame.\n",
      "Try using .loc[row_indexer,col_indexer] = value instead\n",
      "\n",
      "See the caveats in the documentation: https://pandas.pydata.org/pandas-docs/stable/user_guide/indexing.html#returning-a-view-versus-a-copy\n",
      "  self[col] = igetitem(value, i)\n",
      "/opt/conda/lib/python3.7/site-packages/pandas/core/frame.py:3673: SettingWithCopyWarning: \n",
      "A value is trying to be set on a copy of a slice from a DataFrame.\n",
      "Try using .loc[row_indexer,col_indexer] = value instead\n",
      "\n",
      "See the caveats in the documentation: https://pandas.pydata.org/pandas-docs/stable/user_guide/indexing.html#returning-a-view-versus-a-copy\n",
      "  self[col] = igetitem(value, i)\n"
     ]
    }
   ],
   "source": [
    "#Scale the numeric features using MinMaxScaler\n",
    "scale_cols = ['TotalVisits','Total Time Spent on Website','Page Views Per Visit']\n",
    "scaler = MinMaxScaler()\n",
    "X_train[scale_cols] = scaler.fit_transform(X_train[scale_cols])\n",
    "X_test[scale_cols] = scaler.transform(X_test[scale_cols])"
   ]
  },
  {
   "cell_type": "markdown",
   "metadata": {
    "papermill": {
     "duration": 0.149121,
     "end_time": "2022-01-14T01:27:00.730770",
     "exception": false,
     "start_time": "2022-01-14T01:27:00.581649",
     "status": "completed"
    },
    "tags": []
   },
   "source": [
    "#### Building a model\n",
    "\n",
    "Then, we create two models - a Logistic Regression model and a Random Forest Ensemble model - and evaluate their performance.\n",
    "\n",
    "The AUC value of the models will be used to evaluate them. For models whose output is a probability, the performance metric AUC (Area Under Curve) is particularly helpful. In a nutshell, it shows the proportion of times a model correctly predicts that a lead with a higher probability of converting than a lead with a lower probability of converting. As a result, it is helpful in evaluating the effectiveness of a lead scoring model."
   ]
  },
  {
   "cell_type": "code",
   "execution_count": 73,
   "metadata": {
    "execution": {
     "iopub.execute_input": "2022-01-14T01:27:01.045034Z",
     "iopub.status.busy": "2022-01-14T01:27:01.043996Z",
     "iopub.status.idle": "2022-01-14T01:27:14.724359Z",
     "shell.execute_reply": "2022-01-14T01:27:14.725131Z",
     "shell.execute_reply.started": "2022-01-14T01:18:23.725328Z"
    },
    "papermill": {
     "duration": 13.841012,
     "end_time": "2022-01-14T01:27:14.725372",
     "exception": false,
     "start_time": "2022-01-14T01:27:00.884360",
     "status": "completed"
    },
    "tags": []
   },
   "outputs": [
    {
     "name": "stdout",
     "output_type": "stream",
     "text": [
      "{'C': 1.0, 'penalty': 'l1'}\n"
     ]
    }
   ],
   "source": [
    "#Fit logistic model\n",
    "parameters_lr = {'penalty': ['l1', 'l2'], 'C' : np.logspace(-3,3,5,base=10.0)}\n",
    "lr = LogisticRegression(solver='liblinear', random_state=123)\n",
    "\n",
    "lr_cv = GridSearchCV(lr, param_grid=parameters_lr, cv=5, scoring='roc_auc', n_jobs=-1)\n",
    "lr_cv.fit(X_train, y_train)\n",
    "\n",
    "print(lr_cv.best_params_)\n",
    "lr_best = lr_cv.best_estimator_"
   ]
  },
  {
   "cell_type": "code",
   "execution_count": 74,
   "metadata": {
    "execution": {
     "iopub.execute_input": "2022-01-14T01:27:15.035607Z",
     "iopub.status.busy": "2022-01-14T01:27:15.034899Z",
     "iopub.status.idle": "2022-01-14T01:28:49.782126Z",
     "shell.execute_reply": "2022-01-14T01:28:49.782738Z",
     "shell.execute_reply.started": "2022-01-14T01:18:37.018603Z"
    },
    "papermill": {
     "duration": 94.904587,
     "end_time": "2022-01-14T01:28:49.782949",
     "exception": false,
     "start_time": "2022-01-14T01:27:14.878362",
     "status": "completed"
    },
    "tags": []
   },
   "outputs": [
    {
     "name": "stdout",
     "output_type": "stream",
     "text": [
      "{'max_depth': 22, 'min_samples_leaf': 100}\n"
     ]
    }
   ],
   "source": [
    "#Fit random forest classifier w/ hyperparameter tuning\n",
    "parameters_rf = {'max_depth':np.arange(6,30,2),'min_samples_leaf':np.arange(100,500,50)}\n",
    "rf = RandomForestClassifier()\n",
    "\n",
    "rf_cv = GridSearchCV(rf, param_grid=parameters_rf, cv=5, scoring='roc_auc', n_jobs=-1)\n",
    "rf_cv.fit(X_train, y_train)\n",
    "\n",
    "print(rf_cv.best_params_)\n",
    "rf_best = rf_cv.best_estimator_"
   ]
  },
  {
   "cell_type": "markdown",
   "metadata": {
    "papermill": {
     "duration": 0.151129,
     "end_time": "2022-01-14T01:28:50.086777",
     "exception": false,
     "start_time": "2022-01-14T01:28:49.935648",
     "status": "completed"
    },
    "tags": []
   },
   "source": [
    "#### Model contrast\n",
    "\n",
    "AUC is the performance statistic that will be used to compare these models, as was previously mentioned. We also plot their ROC curves to look for any significant form differences."
   ]
  },
  {
   "cell_type": "code",
   "execution_count": 75,
   "metadata": {
    "execution": {
     "iopub.execute_input": "2022-01-14T01:28:50.469817Z",
     "iopub.status.busy": "2022-01-14T01:28:50.453606Z",
     "iopub.status.idle": "2022-01-14T01:28:51.049202Z",
     "shell.execute_reply": "2022-01-14T01:28:51.048515Z",
     "shell.execute_reply.started": "2022-01-14T01:20:07.039564Z"
    },
    "papermill": {
     "duration": 0.809915,
     "end_time": "2022-01-14T01:28:51.049380",
     "exception": false,
     "start_time": "2022-01-14T01:28:50.239465",
     "status": "completed"
    },
    "tags": []
   },
   "outputs": [
    {
     "data": {
      "image/png": "[encoded data removed]",
      "text/plain": [
       "<Figure size 1152x360 with 2 Axes>"
      ]
     },
     "metadata": {
      "needs_background": "light"
     },
     "output_type": "display_data"
    }
   ],
   "source": [
    "#Plot ROC curve & AUC\n",
    "fig, axes = plt.subplots(nrows=1, ncols=2, figsize=(16, 5))\n",
    "models = {'Logistic Regression':lr_best, 'Random Forest Classifier':rf_best}\n",
    "\n",
    "for n,m in models.items():\n",
    "    plot_roc_curve(m, X_test, y_test, ax=axes[list(models.keys()).index(n)])\n",
    "    plt.sca(axes[list(models.keys()).index(n)])\n",
    "    plt.title('ROC Curve - ' + n)"
   ]
  },
  {
   "cell_type": "markdown",
   "metadata": {
    "papermill": {
     "duration": 0.151112,
     "end_time": "2022-01-14T01:28:51.352878",
     "exception": false,
     "start_time": "2022-01-14T01:28:51.201766",
     "status": "completed"
    },
    "tags": []
   },
   "source": [
    "At first glance, the Logistic Regression model appears to perform better. Both models have similar ROC curves, but the Logistic Regression model shows a slightly higher AUC value.\n",
    "\n",
    "To assess each model's fit, we can compare the AUC score on the training & test sets."
   ]
  },
  {
   "cell_type": "code",
   "execution_count": 76,
   "metadata": {
    "execution": {
     "iopub.execute_input": "2022-01-14T01:28:51.663085Z",
     "iopub.status.busy": "2022-01-14T01:28:51.661948Z",
     "iopub.status.idle": "2022-01-14T01:28:51.898945Z",
     "shell.execute_reply": "2022-01-14T01:28:51.899958Z",
     "shell.execute_reply.started": "2022-01-14T01:20:07.669004Z"
    },
    "papermill": {
     "duration": 0.395801,
     "end_time": "2022-01-14T01:28:51.900276",
     "exception": false,
     "start_time": "2022-01-14T01:28:51.504475",
     "status": "completed"
    },
    "tags": []
   },
   "outputs": [
    {
     "name": "stdout",
     "output_type": "stream",
     "text": [
      "Logistic Regression - AUC (training set): 0.9217146374628834\n",
      "Logistic Regression - AUC (test set): 0.9093719228605089\n"
     ]
    }
   ],
   "source": [
    "#Compute AUC score on training & test data for the Logistic Regression model\n",
    "print('Logistic Regression - AUC (training set):', roc_auc_score(y_train, lr_best.predict_proba(X_train)[:,1]))\n",
    "print('Logistic Regression - AUC (test set):', roc_auc_score(y_test, lr_best.predict_proba(X_test)[:,1]))"
   ]
  },
  {
   "cell_type": "code",
   "execution_count": 77,
   "metadata": {
    "execution": {
     "iopub.execute_input": "2022-01-14T01:28:52.263875Z",
     "iopub.status.busy": "2022-01-14T01:28:52.260960Z",
     "iopub.status.idle": "2022-01-14T01:28:52.539592Z",
     "shell.execute_reply": "2022-01-14T01:28:52.540459Z",
     "shell.execute_reply.started": "2022-01-14T01:20:07.897031Z"
    },
    "papermill": {
     "duration": 0.434767,
     "end_time": "2022-01-14T01:28:52.540758",
     "exception": false,
     "start_time": "2022-01-14T01:28:52.105991",
     "status": "completed"
    },
    "tags": []
   },
   "outputs": [
    {
     "name": "stdout",
     "output_type": "stream",
     "text": [
      "Random Forest Classifier - AUC (training set): 0.9096596003400718\n",
      "Random Forest Classifier - AUC (test set): 0.9010334243287441\n"
     ]
    }
   ],
   "source": [
    "#Compute AUC score on training & test data for the Random Forest Classifier model\n",
    "print('Random Forest Classifier - AUC (training set):', roc_auc_score(y_train, rf_best.predict_proba(X_train)[:,1]))\n",
    "print('Random Forest Classifier - AUC (test set):', roc_auc_score(y_test, rf_best.predict_proba(X_test)[:,1]))"
   ]
  },
  {
   "cell_type": "markdown",
   "metadata": {
    "papermill": {
     "duration": 0.153801,
     "end_time": "2022-01-14T01:28:52.848247",
     "exception": false,
     "start_time": "2022-01-14T01:28:52.694446",
     "status": "completed"
    },
    "tags": []
   },
   "source": [
    "Since the AUC scores on the test sets are just somewhat lower, we may conclude that neither model significantly overfits the data by comparing these AUC scores. We can also confirm that the model with the greatest AUC on the test set, 0.9093, is Logistic Regression.\n",
    "\n",
    "By contrasting the distribution of the lead scores each of these models assigns for converted and non-converted leads, we can compare how each of these models separates the data in more detail.\n"
   ]
  },
  {
   "cell_type": "code",
   "execution_count": 78,
   "metadata": {
    "execution": {
     "iopub.execute_input": "2022-01-14T01:28:53.158659Z",
     "iopub.status.busy": "2022-01-14T01:28:53.157876Z",
     "iopub.status.idle": "2022-01-14T01:28:54.081242Z",
     "shell.execute_reply": "2022-01-14T01:28:54.080608Z",
     "shell.execute_reply.started": "2022-01-14T01:20:08.223481Z"
    },
    "papermill": {
     "duration": 1.08024,
     "end_time": "2022-01-14T01:28:54.081422",
     "exception": false,
     "start_time": "2022-01-14T01:28:53.001182",
     "status": "completed"
    },
    "tags": []
   },
   "outputs": [
    {
     "data": {
      "image/png": "[encoded data removed]",
      "text/plain": [
       "<Figure size 1152x360 with 2 Axes>"
      ]
     },
     "metadata": {
      "needs_background": "light"
     },
     "output_type": "display_data"
    }
   ],
   "source": [
    "#Plot histogram of lead scores by Converted\n",
    "fig, axes = plt.subplots(nrows=1, ncols=2, figsize=(16, 5))\n",
    "\n",
    "for n,m in models.items():\n",
    "    sns.histplot(x=m.predict_proba(X_test)[:,1], hue=y_test, ax=axes[list(models.keys()).index(n)], bins=20)\n",
    "    plt.sca(axes[list(models.keys()).index(n)])\n",
    "    plt.title('Lead Score Distribution by Converted - ' + n)\n",
    "    plt.xlabel('Lead Scores')"
   ]
  },
  {
   "cell_type": "markdown",
   "metadata": {
    "papermill": {
     "duration": 0.153278,
     "end_time": "2022-01-14T01:28:54.387951",
     "exception": false,
     "start_time": "2022-01-14T01:28:54.234673",
     "status": "completed"
    },
    "tags": []
   },
   "source": [
    "The higher AUC score provided by the Logistic Regression model seems to be supported by the aforementioned histograms. In the Logistic Regression histogram, the lead scores appear to be more clearly divided, with less overlap between the scores of converted and non-converted leads.\n",
    "\n",
    "**As a result, we can choose the Logistic Regression model as our preferred Lead Scoring Model.**"
   ]
  },
  {
   "cell_type": "code",
   "execution_count": 79,
   "metadata": {
    "execution": {
     "iopub.execute_input": "2022-01-14T01:28:54.700921Z",
     "iopub.status.busy": "2022-01-14T01:28:54.700166Z",
     "iopub.status.idle": "2022-01-14T01:28:54.701790Z",
     "shell.execute_reply": "2022-01-14T01:28:54.702272Z",
     "shell.execute_reply.started": "2022-01-14T01:20:09.158843Z"
    },
    "papermill": {
     "duration": 0.162521,
     "end_time": "2022-01-14T01:28:54.702467",
     "exception": false,
     "start_time": "2022-01-14T01:28:54.539946",
     "status": "completed"
    },
    "tags": []
   },
   "outputs": [],
   "source": [
    "#Assign lr_best as the chosen lead scoring model & get model coefficients + intercept\n",
    "lead_score_model = lr_best\n",
    "\n",
    "intercept = lead_score_model.intercept_\n",
    "\n",
    "coefs = pd.concat([pd.DataFrame(X.columns, columns=['Predictor']),pd.DataFrame(np.transpose(lead_score_model.coef_), columns=['Coefficient'])], axis = 1)"
   ]
  },
  {
   "cell_type": "markdown",
   "metadata": {
    "papermill": {
     "duration": 0.158358,
     "end_time": "2022-01-14T01:28:55.014176",
     "exception": false,
     "start_time": "2022-01-14T01:28:54.855818",
     "status": "completed"
    },
    "tags": []
   },
   "source": [
    "#### Intensifying Conversion Rate\n",
    "\n",
    "The chief executive officer of X Education said he hoped to see the lead conversion rate rise to about 80%. If we contact leads from highest to lowest lead score, we can use a lift chart to calculate the number of leads that need to be contacted to achieve a conversion rate of 80%."
   ]
  },
  {
   "cell_type": "code",
   "execution_count": 80,
   "metadata": {
    "execution": {
     "iopub.execute_input": "2022-01-14T01:28:55.326217Z",
     "iopub.status.busy": "2022-01-14T01:28:55.325460Z",
     "iopub.status.idle": "2022-01-14T01:28:55.328610Z",
     "shell.execute_reply": "2022-01-14T01:28:55.328051Z",
     "shell.execute_reply.started": "2022-01-14T01:20:09.169054Z"
    },
    "papermill": {
     "duration": 0.160965,
     "end_time": "2022-01-14T01:28:55.328762",
     "exception": false,
     "start_time": "2022-01-14T01:28:55.167797",
     "status": "completed"
    },
    "tags": []
   },
   "outputs": [],
   "source": [
    "from scikitplot.metrics import plot_lift_curve"
   ]
  },
  {
   "cell_type": "code",
   "execution_count": 81,
   "metadata": {
    "execution": {
     "iopub.execute_input": "2022-01-14T01:28:55.642527Z",
     "iopub.status.busy": "2022-01-14T01:28:55.641703Z",
     "iopub.status.idle": "2022-01-14T01:28:56.178447Z",
     "shell.execute_reply": "2022-01-14T01:28:56.177744Z",
     "shell.execute_reply.started": "2022-01-14T01:20:09.182813Z"
    },
    "papermill": {
     "duration": 0.697198,
     "end_time": "2022-01-14T01:28:56.178605",
     "exception": false,
     "start_time": "2022-01-14T01:28:55.481407",
     "status": "completed"
    },
    "tags": []
   },
   "outputs": [
    {
     "name": "stdout",
     "output_type": "stream",
     "text": [
      "Baseline conversion rate:  38.54 %\n",
      "Lift equivalent to conversion rate of 80%:  2.08\n"
     ]
    },
    {
     "data": {
      "text/plain": [
       "<AxesSubplot:title={'center':'Lift Curve'}, xlabel='Percentage of sample', ylabel='Lift'>"
      ]
     },
     "execution_count": 81,
     "metadata": {},
     "output_type": "execute_result"
    },
    {
     "data": {
      "image/png": "[encoded data removed]",
      "text/plain": [
       "<Figure size 576x432 with 1 Axes>"
      ]
     },
     "metadata": {
      "needs_background": "light"
     },
     "output_type": "display_data"
    }
   ],
   "source": [
    "#Plot lift chart\n",
    "X_scaled = X.copy()\n",
    "X_scaled[scale_cols] = scaler.transform(X_scaled[scale_cols])\n",
    "\n",
    "baseline = y.mean()*100\n",
    "target_lift = 80/baseline\n",
    "print('Baseline conversion rate: ', round(baseline,2), '%')\n",
    "print('Lift equivalent to conversion rate of 80%: ', round(target_lift,2))\n",
    "\n",
    "plot_lift_curve(y,lead_score_model.predict_proba(X_scaled), figsize=(8,6))"
   ]
  },
  {
   "cell_type": "markdown",
   "metadata": {
    "papermill": {
     "duration": 0.155062,
     "end_time": "2022-01-14T01:28:56.489826",
     "exception": false,
     "start_time": "2022-01-14T01:28:56.334764",
     "status": "completed"
    },
    "tags": []
   },
   "source": [
    "The sales team's conversion rate must rise by a factor of 2.08 in order to obtain a conversion rate of 80%. The graph above shows that by contacting the top 35% of leads by lead scores, the sales team may achieve a conversion rate of 80%, presuming that our test set is a fair sample of future leads seen by X Education."
   ]
  },
  {
   "cell_type": "markdown",
   "metadata": {
    "papermill": {
     "duration": 0.15805,
     "end_time": "2022-01-14T01:28:56.802929",
     "exception": false,
     "start_time": "2022-01-14T01:28:56.644879",
     "status": "completed"
    },
    "tags": []
   },
   "source": [
    "# Conclusion"
   ]
  },
  {
   "cell_type": "markdown",
   "metadata": {
    "papermill": {
     "duration": 0.155145,
     "end_time": "2022-01-14T01:28:57.114222",
     "exception": false,
     "start_time": "2022-01-14T01:28:56.959077",
     "status": "completed"
    },
    "tags": []
   },
   "source": [
    "In conclusion, our created logistic regression model showed to be a more effective lead scoring model. It accurately gives a higher lead score to leads who will convert compared to leads who will not convert in almost 88% of the time. By concentrating on the top 30% of leads according to lead score, the sales force can use this lead scoring approach to raise their conversion rate to 80%.\n",
    "\n",
    "It would be beneficial to establish a minimum lead score before sales representatives even consider contacting a lead as a suggested next step for X Education. This can be done after the price of paying a sales representative to contact a lead and the value of a lead that is converted have been calculated. Using a profit matrix, the optimal threshold for classification to maximize profit can be identified."
   ]
  }
 ],
 "metadata": {
  "kernelspec": {
   "display_name": "Python 3",
   "language": "python",
   "name": "python3"
  },
  "language_info": {
   "codemirror_mode": {
    "name": "ipython",
    "version": 3
   },
   "file_extension": ".py",
   "mimetype": "text/x-python",
   "name": "python",
   "nbconvert_exporter": "python",
   "pygments_lexer": "ipython3",
   "version": "3.7.4"
  },
  "papermill": {
   "default_parameters": {},
   "duration": 184.337021,
   "end_time": "2022-01-14T01:28:59.063398",
   "environment_variables": {},
   "exception": null,
   "input_path": "__notebook__.ipynb",
   "output_path": "__notebook__.ipynb",
   "parameters": {},
   "start_time": "2022-01-14T01:25:54.726377",
   "version": "2.3.3"
  }
 },
 "nbformat": 4,
 "nbformat_minor": 5
}
